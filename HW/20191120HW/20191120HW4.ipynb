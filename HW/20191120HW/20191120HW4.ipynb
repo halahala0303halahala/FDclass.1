{
 "cells": [
  {
   "cell_type": "code",
   "execution_count": 1,
   "metadata": {},
   "outputs": [],
   "source": [
    "%matplotlib inline\n",
    "\n",
    "import numpy as np\n",
    "import matplotlib.pyplot as plt\n",
    "import pandas as pd"
   ]
  },
  {
   "cell_type": "code",
   "execution_count": 2,
   "metadata": {},
   "outputs": [],
   "source": [
    "from ipywidgets import interact_manual"
   ]
  },
  {
   "cell_type": "code",
   "execution_count": 9,
   "metadata": {},
   "outputs": [],
   "source": [
    "poketypeT = np.array([[0,0,0,0,0,-1,0,-1,-1,0,0,0,0,0,0,0,0,0,0],\n",
    "                     [1,0,-1,-1,0,1,-1,-1,1,0,0,0,0,-1,1,0,1,-1,0],\n",
    "                     [0,1,0,0,0,-1,1,0,-1,0,0,1,-1,0,0,0,0,0,0],\n",
    "                     [0,0,0,-1,-1,-1,0,-1,-1,0,0,1,0,0,0,0,0,1,0],\n",
    "                     [0,0,-1,1,0,1,-1,0,1,1,0,-1,1,0,0,0,0,0,0],\n",
    "                     [0,-1,1,0,-1,0,1,0,-1,1,0,0,0,0,1,0,0,0,0],\n",
    "                     [0,-1,-1,-1,0,0,0,-1,-1,-1,0,1,0,1,0,0,1,-1,0],\n",
    "                     [-1,0,0,0,0,0,0,1,0,0,0,0,0,1,0,0,-1,0,0],\n",
    "                     [0,0,0,0,0,1,0,0,-1,-1,-1,0,-1,0,1,0,0,1,0],\n",
    "                     [0,0,0,0,0,-1,1,0,1,0,0,1,0,0,1,-1,0,0,0],\n",
    "                     [0,0,0,0,1,1,0,0,0,1,-1,-1,0,0,0,-1,0,0,0],\n",
    "                     [0,0,-1,-1,1,1,-1,0,-1,-1,1,-1,0,0,0,-1,0,0,0],\n",
    "                     [0,0,1,0,-1,0,0,0,0,0,1,-1,-1,0,0,-1,0,0,0],\n",
    "                     [0,1,0,1,0,0,0,0,-1,0,0,0,0,-1,0,0,-1,0,0],\n",
    "                     [0,0,1,0,1,0,0,0,-1,-1,-1,1,0,0,-1,1,0,0,0],\n",
    "                     [0,0,0,0,0,0,0,0,-1,0,0,0,0,0,0,1,0,-1,0],\n",
    "                     [0,-1,0,0,0,0,0,1,0,0,0,0,0,1,0,0,-1,-1,0],\n",
    "                     [0,1,0,-1,0,0,0,0,-1,-1,0,0,0,0,0,1,1,0,0],\n",
    "                     [0,0,0,0,0,0,0,0,0,0,0,0,0,0,0,0,0,0,0]])"
   ]
  },
  {
   "cell_type": "code",
   "execution_count": 10,
   "metadata": {},
   "outputs": [],
   "source": [
    "poketypeD = {\"一般\":poketypeT[0],\"格鬥\":poketypeT[1],\"飛行\":poketypeT[2],\"毒\":poketypeT[3],\"地面\":poketypeT[4],\n",
    "             \"岩石\":poketypeT[5],\"蟲\":poketypeT[6],\"幽靈\":poketypeT[7],\"鋼\":poketypeT[8],\"火\":poketypeT[9],\"水\":poketypeT[10],\n",
    "            \"草\":poketypeT[11],\"雷\":poketypeT[12],\"超能\":poketypeT[13],\"冰\":poketypeT[14],\"龍\":poketypeT[15],\"惡\":poketypeT[16],\n",
    "             \"妖精\":poketypeT[17],\"無\":poketypeT[18]}  "
   ]
  },
  {
   "cell_type": "code",
   "execution_count": 11,
   "metadata": {},
   "outputs": [],
   "source": [
    "poketype = [\"一般\",\"格鬥\",\"飛行\",\"毒\",\"地面\",\"岩石\",\"蟲\",\"幽靈\",\"鋼\",\"火\",\"水\",\"草\",\"雷\",\"超能\",\"冰\",\"龍\",\"惡\",\"妖精\",\"無\"]"
   ]
  },
  {
   "cell_type": "code",
   "execution_count": 24,
   "metadata": {},
   "outputs": [],
   "source": [
    "def team(pokemon1type1,pokemon1type2,pokemon2type1,pokemon2type2,pokemon3type1,pokemon3type2):\n",
    "    k = poketypeD[pokemon1type1] + poketypeD[pokemon1type2] + poketypeD[pokemon2type1] + poketypeD[pokemon2type2] + poketypeD[pokemon3type1] + poketypeD[pokemon3type2]\n",
    "    wk = []\n",
    "    ad = []\n",
    "    for i in range(0,19):\n",
    "        if k[i] <= -1:\n",
    "            wk = wk + [poketype[i]]\n",
    "        elif k[i] >= 1:\n",
    "            ad = ad + [poketype[i]]\n",
    "    print(f'缺乏{wk}打點，擅長{ad}隊伍')\n",
    "            \n",
    "    "
   ]
  },
  {
   "cell_type": "code",
   "execution_count": 25,
   "metadata": {},
   "outputs": [
    {
     "data": {
      "application/vnd.jupyter.widget-view+json": {
       "model_id": "2a69f9c549e941a2bce55d0e524c4902",
       "version_major": 2,
       "version_minor": 0
      },
      "text/plain": [
       "interactive(children=(Dropdown(description='pokemon1type1', options=('一般', '格鬥', '飛行', '毒', '地面', '岩石', '蟲', '…"
      ]
     },
     "metadata": {},
     "output_type": "display_data"
    },
    {
     "data": {
      "text/plain": [
       "<function __main__.team(pokemon1type1, pokemon1type2, pokemon2type1, pokemon2type2, pokemon3type1, pokemon3type2)>"
      ]
     },
     "execution_count": 25,
     "metadata": {},
     "output_type": "execute_result"
    }
   ],
   "source": [
    "interact_manual(team,pokemon1type1=poketype,pokemon1type2=poketype,pokemon2type1=poketype,pokemon2type2=poketype,pokemon3type1=poketype,pokemon3type2=poketype)"
   ]
  },
  {
   "cell_type": "code",
   "execution_count": null,
   "metadata": {},
   "outputs": [],
   "source": []
  }
 ],
 "metadata": {
  "kernelspec": {
   "display_name": "Python 3",
   "language": "python",
   "name": "python3"
  },
  "language_info": {
   "codemirror_mode": {
    "name": "ipython",
    "version": 3
   },
   "file_extension": ".py",
   "mimetype": "text/x-python",
   "name": "python",
   "nbconvert_exporter": "python",
   "pygments_lexer": "ipython3",
   "version": "3.7.4"
  }
 },
 "nbformat": 4,
 "nbformat_minor": 2
}
