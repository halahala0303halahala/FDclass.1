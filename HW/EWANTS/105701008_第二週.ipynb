{
 "cells": [
  {
   "cell_type": "code",
   "execution_count": 1,
   "metadata": {},
   "outputs": [],
   "source": [
    "%matplotlib inline\n",
    "\n",
    "import numpy as np\n",
    "import matplotlib.pyplot as plt\n",
    "import pandas as pd"
   ]
  },
  {
   "cell_type": "markdown",
   "metadata": {},
   "source": [
    "### 猜數字遊戲"
   ]
  },
  {
   "cell_type": "code",
   "execution_count": 3,
   "metadata": {},
   "outputs": [
    {
     "name": "stdout",
     "output_type": "stream",
     "text": [
      "猜一個數字1\n",
      "太小\n",
      "猜一個數字69\n",
      "太大\n",
      "猜一個數字55\n",
      "太大\n",
      "猜一個數字44\n",
      "太大\n",
      "猜一個數字33\n",
      "太大\n",
      "猜一個數字22\n",
      "太大\n",
      "猜一個數字11\n",
      "太小\n",
      "猜一個數字14\n",
      "太大\n",
      "猜一個數字12\n",
      "太小\n",
      "猜一個數字13\n",
      "恭喜你!猜對了!\n"
     ]
    }
   ],
   "source": [
    "n = np.random.randint(1,101)\n",
    "while(True):\n",
    "    g = int(input('猜一個數字'))\n",
    "    if g > n :\n",
    "        print('太大')\n",
    "    if g < n :\n",
    "        print('太小')\n",
    "    if g == n:\n",
    "        print('恭喜你!猜對了!')\n",
    "        break\n",
    "    "
   ]
  },
  {
   "cell_type": "markdown",
   "metadata": {},
   "source": [
    "### 感恩讚嘆機器人"
   ]
  },
  {
   "cell_type": "code",
   "execution_count": 4,
   "metadata": {},
   "outputs": [
    {
     "name": "stdout",
     "output_type": "stream",
     "text": [
      "掰\n",
      "感恩助教，讚嘆助教\n"
     ]
    }
   ],
   "source": [
    "while(True):\n",
    "    bot = np.random.randint(0,2)\n",
    "    you = input('')\n",
    "    if bot == 0:\n",
    "        print('感恩炎龍，讚嘆炎龍')\n",
    "    if bot == 1:\n",
    "        print('感恩助教，讚嘆助教')\n",
    "    if '掰' in you:\n",
    "        break"
   ]
  },
  {
   "cell_type": "markdown",
   "metadata": {},
   "source": [
    "### 天干地支"
   ]
  },
  {
   "cell_type": "code",
   "execution_count": 38,
   "metadata": {},
   "outputs": [],
   "source": [
    "tan = ['庚','辛','壬','癸','甲','乙','丙','丁','戊','己']\n",
    "dee = ['申','酉','戌','亥','子','醜','寅','卯','辰','巳','午','未']"
   ]
  },
  {
   "cell_type": "code",
   "execution_count": 39,
   "metadata": {},
   "outputs": [],
   "source": [
    "def tangandeezu(year):\n",
    "    t = year%10\n",
    "    d = year%12\n",
    "    T = tan[t]\n",
    "    D = dee[d]\n",
    "    print(f'{year}是{T}{D}年')"
   ]
  },
  {
   "cell_type": "code",
   "execution_count": 42,
   "metadata": {},
   "outputs": [
    {
     "name": "stdout",
     "output_type": "stream",
     "text": [
      "2015是乙未年\n"
     ]
    }
   ],
   "source": [
    "tangandeezu(2015)"
   ]
  },
  {
   "cell_type": "markdown",
   "metadata": {},
   "source": [
    "### 聖誕樹"
   ]
  },
  {
   "cell_type": "code",
   "execution_count": 52,
   "metadata": {},
   "outputs": [],
   "source": [
    "def tree(x):\n",
    "    for i in range(0,x):\n",
    "        print(' '*(x-i) + '*'*(2*i+1))"
   ]
  },
  {
   "cell_type": "code",
   "execution_count": 53,
   "metadata": {},
   "outputs": [
    {
     "name": "stdout",
     "output_type": "stream",
     "text": [
      "      *\n",
      "     ***\n",
      "    *****\n",
      "   *******\n",
      "  *********\n",
      " ***********\n"
     ]
    }
   ],
   "source": [
    "tree(6)"
   ]
  },
  {
   "cell_type": "code",
   "execution_count": null,
   "metadata": {},
   "outputs": [],
   "source": []
  }
 ],
 "metadata": {
  "kernelspec": {
   "display_name": "Python 3",
   "language": "python",
   "name": "python3"
  },
  "language_info": {
   "codemirror_mode": {
    "name": "ipython",
    "version": 3
   },
   "file_extension": ".py",
   "mimetype": "text/x-python",
   "name": "python",
   "nbconvert_exporter": "python",
   "pygments_lexer": "ipython3",
   "version": "3.7.4"
  }
 },
 "nbformat": 4,
 "nbformat_minor": 2
}
