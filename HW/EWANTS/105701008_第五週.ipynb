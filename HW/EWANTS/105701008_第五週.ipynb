{
 "cells": [
  {
   "cell_type": "code",
   "execution_count": 1,
   "metadata": {},
   "outputs": [],
   "source": [
    "%matplotlib inline\n",
    "\n",
    "import numpy as np\n",
    "import matplotlib.pyplot as plt\n",
    "import pandas as pd"
   ]
  },
  {
   "cell_type": "markdown",
   "metadata": {},
   "source": [
    "## 第一題_算閏年：\n",
    "請定義一個函式，讀進一個年份，輸出是不是閏年。\n",
    "\n",
    "提示：\n",
    "目前使用的格里高利曆閏年規則如下：\n",
    "\n",
    "4的倍數是可能的。\n",
    "100的倍數是不可能的。\n",
    "400的倍數是可能的。"
   ]
  },
  {
   "cell_type": "code",
   "execution_count": 2,
   "metadata": {},
   "outputs": [],
   "source": [
    "def year(x):\n",
    "    if x%4 != 0:\n",
    "        print(f'{x}年不是閏年')\n",
    "    elif x%100 != 0:\n",
    "        print(f'{x}年是閏年')\n",
    "    elif x%400 == 0:\n",
    "        print(f'{x}年是閏年')\n",
    "    else:\n",
    "        print(f'{x}年不是閏年')"
   ]
  },
  {
   "cell_type": "code",
   "execution_count": 4,
   "metadata": {},
   "outputs": [
    {
     "name": "stdout",
     "output_type": "stream",
     "text": [
      "2019年不是閏年\n"
     ]
    }
   ],
   "source": [
    "year(2019)"
   ]
  },
  {
   "cell_type": "markdown",
   "metadata": {},
   "source": [
    "## 第二題_請實作五乘五矩陣的矩陣加法函式："
   ]
  },
  {
   "cell_type": "code",
   "execution_count": 6,
   "metadata": {},
   "outputs": [],
   "source": [
    "m1 = np.random.randn(5,5)\n",
    "m2 = np.random.randn(5,5)\n",
    "\n",
    "def maxtric_plus(m1,m2):\n",
    "    return m1+m2\n"
   ]
  },
  {
   "cell_type": "code",
   "execution_count": 7,
   "metadata": {},
   "outputs": [
    {
     "name": "stdout",
     "output_type": "stream",
     "text": [
      "m1 = \n",
      "[[ 0.10124397 -0.16618023  0.42348224  0.21607746 -0.05530996]\n",
      " [ 0.03825756 -0.13220302  1.13056497 -2.22966549  0.66538416]\n",
      " [-0.25525644 -0.62536249  0.32010725  1.88178928 -0.61471232]\n",
      " [ 0.28134633 -1.49733072  1.18738876 -0.15644866 -0.81180478]\n",
      " [-0.72885074 -0.89997252  0.75529792 -0.39334733  0.37239345]]\n",
      "m2 =\n",
      "[[ 0.29698729 -0.30432285  0.06622173  0.14622921 -1.82576844]\n",
      " [ 0.88944775 -1.01713567  0.2909004  -1.17265962 -2.18073959]\n",
      " [ 0.85230914 -0.12511201  0.38160438 -0.58203535 -0.0443976 ]\n",
      " [ 0.1596363  -1.23506564  1.50259899  0.34911257 -0.16707097]\n",
      " [ 0.6742036   0.72156564 -0.04444245  0.61336603  0.87274885]]\n",
      "m1+m2 =\n",
      "[[ 0.39823126 -0.47050309  0.48970397  0.36230667 -1.8810784 ]\n",
      " [ 0.92770531 -1.14933869  1.42146537 -3.40232511 -1.51535543]\n",
      " [ 0.5970527  -0.7504745   0.70171163  1.29975393 -0.65910992]\n",
      " [ 0.44098263 -2.73239636  2.68998775  0.1926639  -0.97887575]\n",
      " [-0.05464714 -0.17840688  0.71085547  0.2200187   1.2451423 ]]\n"
     ]
    }
   ],
   "source": [
    "print(f'm1 = \\n{m1}\\nm2 =\\n{m2}\\nm1+m2 =\\n{maxtric_plus(m1,m2)}')"
   ]
  },
  {
   "cell_type": "markdown",
   "metadata": {},
   "source": [
    "## 第三題_錄取分數表格\n",
    "小明今年考大學\n",
    "依照 [“國文”, “英文”, “數甲”, “數乙”, “物理”, “化學”, “生物”, “歷史”, “地理”, “公民”]\n",
    "他的分數分別是 [86.5, 79.4, 88.2, 96.5, 86.3, 76.8, 96.1, 78.5, 82.4, 88.6]\n",
    "而他所想申請的大學各系採計的科目權重分別是\n",
    "{\n",
    "“土語系”: [2, 2, 0, 1, 0, 0, 0, 1, 1, 0],\n",
    "“財政系”: [1, 1.5, 0, 1.5, 0, 0, 0, 0, 0, 0],\n",
    "“金融系”: [1, 1.5, 0, 2, 0, 0, 0, 0, 0, 0],\n",
    "“國貿系”: [1.5, 2, 0, 2, 0, 0, 0, 0, 0, 0],\n",
    "“會計系”: [1.5, 2, 0, 2, 0, 0, 0, 1, 1, 0],\n",
    "“法律系”: [1, 2, 0, 1, 0, 0, 0, 1, 0, 1],\n",
    "“公行系”: [1, 1.5, 0, 1.25, 0, 0, 0, 0, 0, 1.25],\n",
    "“應數系”: [1, 1, 1.5, 0, 1, 1, 0, 0, 0, 0],\n",
    "“教育系”: [1.5, 2, 0, 1.25, 0, 0, 0, 1, 1, 0]\n",
    "}\n",
    "\n",
    "請幫他做出一個表格\n",
    "第一欄顯示科系\n",
    "接下來顯示權重 並標示科目\n",
    "最後一欄顯示加權分數"
   ]
  },
  {
   "cell_type": "code",
   "execution_count": 8,
   "metadata": {},
   "outputs": [],
   "source": [
    "column= [\"國文\", \"英文\", \"數甲\", \"數乙\", \"物理\", \"化學\", \"生物\", \"歷史\", \"地理\", \"公民\"] \n",
    "grades=[86.5, 79.4, 88.2, 96.5, 86.3, 76.8, 96.1, 78.5, 82.4, 88.6] \n",
    "weightdict={ \"土語系\": [2, 2, 0, 1, 0, 0, 0, 1, 1, 0],\n",
    "            \"財政系\": [1, 1.5, 0, 1.5, 0, 0, 0, 0, 0, 0], \n",
    "            \"金融系\": [1, 1.5, 0, 2, 0, 0, 0, 0, 0, 0], \n",
    "            \"國貿系\": [1.5, 2, 0, 2, 0, 0, 0, 0, 0, 0],\n",
    "            \"會計系\": [1.5, 2, 0, 2, 0, 0, 0, 1, 1, 0],\n",
    "            \"法律系\": [1, 2, 0, 1, 0, 0, 0, 1, 0, 1],\n",
    "            \"公行系\": [1, 1.5, 0, 1.25, 0, 0, 0, 0, 0, 1.25],\n",
    "            \"應數系\": [1, 1, 1.5, 0, 1, 1, 0, 0, 0, 0],\n",
    "            \"教育系\": [1.5, 2, 0, 1.25, 0, 0, 0, 1, 1, 0] }"
   ]
  },
  {
   "cell_type": "code",
   "execution_count": 9,
   "metadata": {},
   "outputs": [],
   "source": [
    "departments=[]\n",
    "weight=[]"
   ]
  },
  {
   "cell_type": "code",
   "execution_count": 10,
   "metadata": {},
   "outputs": [],
   "source": [
    "for key in weightdict:\n",
    "    departments.append(key)\n",
    "    weight.append(weightdict[key])"
   ]
  },
  {
   "cell_type": "code",
   "execution_count": 12,
   "metadata": {},
   "outputs": [
    {
     "name": "stdout",
     "output_type": "stream",
     "text": [
      "['土語系', '財政系', '金融系', '國貿系', '會計系', '法律系', '公行系', '應數系', '教育系'] [[2, 2, 0, 1, 0, 0, 0, 1, 1, 0], [1, 1.5, 0, 1.5, 0, 0, 0, 0, 0, 0], [1, 1.5, 0, 2, 0, 0, 0, 0, 0, 0], [1.5, 2, 0, 2, 0, 0, 0, 0, 0, 0], [1.5, 2, 0, 2, 0, 0, 0, 1, 1, 0], [1, 2, 0, 1, 0, 0, 0, 1, 0, 1], [1, 1.5, 0, 1.25, 0, 0, 0, 0, 0, 1.25], [1, 1, 1.5, 0, 1, 1, 0, 0, 0, 0], [1.5, 2, 0, 1.25, 0, 0, 0, 1, 1, 0]]\n"
     ]
    }
   ],
   "source": [
    "print(departments,weight)"
   ]
  },
  {
   "cell_type": "code",
   "execution_count": 13,
   "metadata": {},
   "outputs": [],
   "source": [
    "departments=np.array(departments)\n",
    "weight=np.array(weight)"
   ]
  },
  {
   "cell_type": "code",
   "execution_count": 15,
   "metadata": {},
   "outputs": [
    {
     "data": {
      "text/html": [
       "<div>\n",
       "<style scoped>\n",
       "    .dataframe tbody tr th:only-of-type {\n",
       "        vertical-align: middle;\n",
       "    }\n",
       "\n",
       "    .dataframe tbody tr th {\n",
       "        vertical-align: top;\n",
       "    }\n",
       "\n",
       "    .dataframe thead th {\n",
       "        text-align: right;\n",
       "    }\n",
       "</style>\n",
       "<table border=\"1\" class=\"dataframe\">\n",
       "  <thead>\n",
       "    <tr style=\"text-align: right;\">\n",
       "      <th></th>\n",
       "      <th>國文</th>\n",
       "      <th>英文</th>\n",
       "      <th>數甲</th>\n",
       "      <th>數乙</th>\n",
       "      <th>物理</th>\n",
       "      <th>化學</th>\n",
       "      <th>生物</th>\n",
       "      <th>歷史</th>\n",
       "      <th>地理</th>\n",
       "      <th>公民</th>\n",
       "    </tr>\n",
       "  </thead>\n",
       "  <tbody>\n",
       "    <tr>\n",
       "      <td>土語系</td>\n",
       "      <td>2.0</td>\n",
       "      <td>2.0</td>\n",
       "      <td>0.0</td>\n",
       "      <td>1.00</td>\n",
       "      <td>0.0</td>\n",
       "      <td>0.0</td>\n",
       "      <td>0.0</td>\n",
       "      <td>1.0</td>\n",
       "      <td>1.0</td>\n",
       "      <td>0.00</td>\n",
       "    </tr>\n",
       "    <tr>\n",
       "      <td>財政系</td>\n",
       "      <td>1.0</td>\n",
       "      <td>1.5</td>\n",
       "      <td>0.0</td>\n",
       "      <td>1.50</td>\n",
       "      <td>0.0</td>\n",
       "      <td>0.0</td>\n",
       "      <td>0.0</td>\n",
       "      <td>0.0</td>\n",
       "      <td>0.0</td>\n",
       "      <td>0.00</td>\n",
       "    </tr>\n",
       "    <tr>\n",
       "      <td>金融系</td>\n",
       "      <td>1.0</td>\n",
       "      <td>1.5</td>\n",
       "      <td>0.0</td>\n",
       "      <td>2.00</td>\n",
       "      <td>0.0</td>\n",
       "      <td>0.0</td>\n",
       "      <td>0.0</td>\n",
       "      <td>0.0</td>\n",
       "      <td>0.0</td>\n",
       "      <td>0.00</td>\n",
       "    </tr>\n",
       "    <tr>\n",
       "      <td>國貿系</td>\n",
       "      <td>1.5</td>\n",
       "      <td>2.0</td>\n",
       "      <td>0.0</td>\n",
       "      <td>2.00</td>\n",
       "      <td>0.0</td>\n",
       "      <td>0.0</td>\n",
       "      <td>0.0</td>\n",
       "      <td>0.0</td>\n",
       "      <td>0.0</td>\n",
       "      <td>0.00</td>\n",
       "    </tr>\n",
       "    <tr>\n",
       "      <td>會計系</td>\n",
       "      <td>1.5</td>\n",
       "      <td>2.0</td>\n",
       "      <td>0.0</td>\n",
       "      <td>2.00</td>\n",
       "      <td>0.0</td>\n",
       "      <td>0.0</td>\n",
       "      <td>0.0</td>\n",
       "      <td>1.0</td>\n",
       "      <td>1.0</td>\n",
       "      <td>0.00</td>\n",
       "    </tr>\n",
       "    <tr>\n",
       "      <td>法律系</td>\n",
       "      <td>1.0</td>\n",
       "      <td>2.0</td>\n",
       "      <td>0.0</td>\n",
       "      <td>1.00</td>\n",
       "      <td>0.0</td>\n",
       "      <td>0.0</td>\n",
       "      <td>0.0</td>\n",
       "      <td>1.0</td>\n",
       "      <td>0.0</td>\n",
       "      <td>1.00</td>\n",
       "    </tr>\n",
       "    <tr>\n",
       "      <td>公行系</td>\n",
       "      <td>1.0</td>\n",
       "      <td>1.5</td>\n",
       "      <td>0.0</td>\n",
       "      <td>1.25</td>\n",
       "      <td>0.0</td>\n",
       "      <td>0.0</td>\n",
       "      <td>0.0</td>\n",
       "      <td>0.0</td>\n",
       "      <td>0.0</td>\n",
       "      <td>1.25</td>\n",
       "    </tr>\n",
       "    <tr>\n",
       "      <td>應數系</td>\n",
       "      <td>1.0</td>\n",
       "      <td>1.0</td>\n",
       "      <td>1.5</td>\n",
       "      <td>0.00</td>\n",
       "      <td>1.0</td>\n",
       "      <td>1.0</td>\n",
       "      <td>0.0</td>\n",
       "      <td>0.0</td>\n",
       "      <td>0.0</td>\n",
       "      <td>0.00</td>\n",
       "    </tr>\n",
       "    <tr>\n",
       "      <td>教育系</td>\n",
       "      <td>1.5</td>\n",
       "      <td>2.0</td>\n",
       "      <td>0.0</td>\n",
       "      <td>1.25</td>\n",
       "      <td>0.0</td>\n",
       "      <td>0.0</td>\n",
       "      <td>0.0</td>\n",
       "      <td>1.0</td>\n",
       "      <td>1.0</td>\n",
       "      <td>0.00</td>\n",
       "    </tr>\n",
       "  </tbody>\n",
       "</table>\n",
       "</div>"
      ],
      "text/plain": [
       "      國文   英文   數甲    數乙   物理   化學   生物   歷史   地理    公民\n",
       "土語系  2.0  2.0  0.0  1.00  0.0  0.0  0.0  1.0  1.0  0.00\n",
       "財政系  1.0  1.5  0.0  1.50  0.0  0.0  0.0  0.0  0.0  0.00\n",
       "金融系  1.0  1.5  0.0  2.00  0.0  0.0  0.0  0.0  0.0  0.00\n",
       "國貿系  1.5  2.0  0.0  2.00  0.0  0.0  0.0  0.0  0.0  0.00\n",
       "會計系  1.5  2.0  0.0  2.00  0.0  0.0  0.0  1.0  1.0  0.00\n",
       "法律系  1.0  2.0  0.0  1.00  0.0  0.0  0.0  1.0  0.0  1.00\n",
       "公行系  1.0  1.5  0.0  1.25  0.0  0.0  0.0  0.0  0.0  1.25\n",
       "應數系  1.0  1.0  1.5  0.00  1.0  1.0  0.0  0.0  0.0  0.00\n",
       "教育系  1.5  2.0  0.0  1.25  0.0  0.0  0.0  1.0  1.0  0.00"
      ]
     },
     "execution_count": 15,
     "metadata": {},
     "output_type": "execute_result"
    }
   ],
   "source": [
    "T = pd.DataFrame(weight, columns=column, index=departments)\n",
    "T"
   ]
  },
  {
   "cell_type": "code",
   "execution_count": 17,
   "metadata": {},
   "outputs": [
    {
     "data": {
      "text/html": [
       "<div>\n",
       "<style scoped>\n",
       "    .dataframe tbody tr th:only-of-type {\n",
       "        vertical-align: middle;\n",
       "    }\n",
       "\n",
       "    .dataframe tbody tr th {\n",
       "        vertical-align: top;\n",
       "    }\n",
       "\n",
       "    .dataframe thead th {\n",
       "        text-align: right;\n",
       "    }\n",
       "</style>\n",
       "<table border=\"1\" class=\"dataframe\">\n",
       "  <thead>\n",
       "    <tr style=\"text-align: right;\">\n",
       "      <th></th>\n",
       "      <th>國文</th>\n",
       "      <th>英文</th>\n",
       "      <th>數甲</th>\n",
       "      <th>數乙</th>\n",
       "      <th>物理</th>\n",
       "      <th>化學</th>\n",
       "      <th>生物</th>\n",
       "      <th>歷史</th>\n",
       "      <th>地理</th>\n",
       "      <th>公民</th>\n",
       "      <th>加權分數</th>\n",
       "    </tr>\n",
       "  </thead>\n",
       "  <tbody>\n",
       "    <tr>\n",
       "      <td>土語系</td>\n",
       "      <td>2.0</td>\n",
       "      <td>2.0</td>\n",
       "      <td>0.0</td>\n",
       "      <td>1.00</td>\n",
       "      <td>0.0</td>\n",
       "      <td>0.0</td>\n",
       "      <td>0.0</td>\n",
       "      <td>1.0</td>\n",
       "      <td>1.0</td>\n",
       "      <td>0.00</td>\n",
       "      <td>589.200</td>\n",
       "    </tr>\n",
       "    <tr>\n",
       "      <td>財政系</td>\n",
       "      <td>1.0</td>\n",
       "      <td>1.5</td>\n",
       "      <td>0.0</td>\n",
       "      <td>1.50</td>\n",
       "      <td>0.0</td>\n",
       "      <td>0.0</td>\n",
       "      <td>0.0</td>\n",
       "      <td>0.0</td>\n",
       "      <td>0.0</td>\n",
       "      <td>0.00</td>\n",
       "      <td>350.350</td>\n",
       "    </tr>\n",
       "    <tr>\n",
       "      <td>金融系</td>\n",
       "      <td>1.0</td>\n",
       "      <td>1.5</td>\n",
       "      <td>0.0</td>\n",
       "      <td>2.00</td>\n",
       "      <td>0.0</td>\n",
       "      <td>0.0</td>\n",
       "      <td>0.0</td>\n",
       "      <td>0.0</td>\n",
       "      <td>0.0</td>\n",
       "      <td>0.00</td>\n",
       "      <td>398.600</td>\n",
       "    </tr>\n",
       "    <tr>\n",
       "      <td>國貿系</td>\n",
       "      <td>1.5</td>\n",
       "      <td>2.0</td>\n",
       "      <td>0.0</td>\n",
       "      <td>2.00</td>\n",
       "      <td>0.0</td>\n",
       "      <td>0.0</td>\n",
       "      <td>0.0</td>\n",
       "      <td>0.0</td>\n",
       "      <td>0.0</td>\n",
       "      <td>0.00</td>\n",
       "      <td>481.550</td>\n",
       "    </tr>\n",
       "    <tr>\n",
       "      <td>會計系</td>\n",
       "      <td>1.5</td>\n",
       "      <td>2.0</td>\n",
       "      <td>0.0</td>\n",
       "      <td>2.00</td>\n",
       "      <td>0.0</td>\n",
       "      <td>0.0</td>\n",
       "      <td>0.0</td>\n",
       "      <td>1.0</td>\n",
       "      <td>1.0</td>\n",
       "      <td>0.00</td>\n",
       "      <td>642.450</td>\n",
       "    </tr>\n",
       "    <tr>\n",
       "      <td>法律系</td>\n",
       "      <td>1.0</td>\n",
       "      <td>2.0</td>\n",
       "      <td>0.0</td>\n",
       "      <td>1.00</td>\n",
       "      <td>0.0</td>\n",
       "      <td>0.0</td>\n",
       "      <td>0.0</td>\n",
       "      <td>1.0</td>\n",
       "      <td>0.0</td>\n",
       "      <td>1.00</td>\n",
       "      <td>508.900</td>\n",
       "    </tr>\n",
       "    <tr>\n",
       "      <td>公行系</td>\n",
       "      <td>1.0</td>\n",
       "      <td>1.5</td>\n",
       "      <td>0.0</td>\n",
       "      <td>1.25</td>\n",
       "      <td>0.0</td>\n",
       "      <td>0.0</td>\n",
       "      <td>0.0</td>\n",
       "      <td>0.0</td>\n",
       "      <td>0.0</td>\n",
       "      <td>1.25</td>\n",
       "      <td>436.975</td>\n",
       "    </tr>\n",
       "    <tr>\n",
       "      <td>應數系</td>\n",
       "      <td>1.0</td>\n",
       "      <td>1.0</td>\n",
       "      <td>1.5</td>\n",
       "      <td>0.00</td>\n",
       "      <td>1.0</td>\n",
       "      <td>1.0</td>\n",
       "      <td>0.0</td>\n",
       "      <td>0.0</td>\n",
       "      <td>0.0</td>\n",
       "      <td>0.00</td>\n",
       "      <td>461.300</td>\n",
       "    </tr>\n",
       "    <tr>\n",
       "      <td>教育系</td>\n",
       "      <td>1.5</td>\n",
       "      <td>2.0</td>\n",
       "      <td>0.0</td>\n",
       "      <td>1.25</td>\n",
       "      <td>0.0</td>\n",
       "      <td>0.0</td>\n",
       "      <td>0.0</td>\n",
       "      <td>1.0</td>\n",
       "      <td>1.0</td>\n",
       "      <td>0.00</td>\n",
       "      <td>570.075</td>\n",
       "    </tr>\n",
       "  </tbody>\n",
       "</table>\n",
       "</div>"
      ],
      "text/plain": [
       "      國文   英文   數甲    數乙   物理   化學   生物   歷史   地理    公民     加權分數\n",
       "土語系  2.0  2.0  0.0  1.00  0.0  0.0  0.0  1.0  1.0  0.00  589.200\n",
       "財政系  1.0  1.5  0.0  1.50  0.0  0.0  0.0  0.0  0.0  0.00  350.350\n",
       "金融系  1.0  1.5  0.0  2.00  0.0  0.0  0.0  0.0  0.0  0.00  398.600\n",
       "國貿系  1.5  2.0  0.0  2.00  0.0  0.0  0.0  0.0  0.0  0.00  481.550\n",
       "會計系  1.5  2.0  0.0  2.00  0.0  0.0  0.0  1.0  1.0  0.00  642.450\n",
       "法律系  1.0  2.0  0.0  1.00  0.0  0.0  0.0  1.0  0.0  1.00  508.900\n",
       "公行系  1.0  1.5  0.0  1.25  0.0  0.0  0.0  0.0  0.0  1.25  436.975\n",
       "應數系  1.0  1.0  1.5  0.00  1.0  1.0  0.0  0.0  0.0  0.00  461.300\n",
       "教育系  1.5  2.0  0.0  1.25  0.0  0.0  0.0  1.0  1.0  0.00  570.075"
      ]
     },
     "execution_count": 17,
     "metadata": {},
     "output_type": "execute_result"
    }
   ],
   "source": [
    "T['加權分數'] = np.dot(weight,grades)\n",
    "T"
   ]
  },
  {
   "cell_type": "markdown",
   "metadata": {},
   "source": [
    "## 挑戰題一_Bubble Sort\n",
    "Geoffrey是個喜歡自動化的老師，某次期中考過後，他想要把學生的成績用電腦自動排序，於是他請Andrew幫忙開發這個高難度的程式…\n",
    "\n",
    "限制：不可以使用Python內建的sort()"
   ]
  },
  {
   "cell_type": "code",
   "execution_count": 27,
   "metadata": {},
   "outputs": [],
   "source": [
    "grades2 = np.random.randint(0,100,100)"
   ]
  },
  {
   "cell_type": "code",
   "execution_count": 25,
   "metadata": {},
   "outputs": [],
   "source": [
    "def my_sort(x):\n",
    "    for i in range(len(x)):\n",
    "        for k in range(len(x)-i-1):\n",
    "            if x[i] > x[i+k+1]:\n",
    "                a = x[i+k+1]\n",
    "                x[i+k+1] = x[i]\n",
    "                x[i] = a\n",
    "    return x\n",
    "    "
   ]
  },
  {
   "cell_type": "code",
   "execution_count": 28,
   "metadata": {},
   "outputs": [
    {
     "data": {
      "text/plain": [
       "array([ 1,  1,  2,  2,  6,  6,  7,  7,  9,  9, 10, 11, 11, 12, 12, 13, 13,\n",
       "       14, 15, 16, 17, 18, 18, 22, 24, 25, 27, 30, 31, 32, 33, 35, 35, 36,\n",
       "       36, 39, 39, 40, 41, 41, 42, 43, 44, 44, 46, 49, 53, 54, 54, 55, 55,\n",
       "       58, 58, 58, 59, 59, 60, 60, 62, 62, 63, 64, 64, 67, 68, 68, 68, 70,\n",
       "       74, 74, 76, 77, 79, 79, 79, 80, 80, 80, 80, 80, 81, 81, 83, 83, 85,\n",
       "       85, 86, 87, 88, 88, 89, 91, 91, 91, 92, 93, 94, 95, 96, 96])"
      ]
     },
     "execution_count": 28,
     "metadata": {},
     "output_type": "execute_result"
    }
   ],
   "source": [
    "my_sort(grades2)"
   ]
  },
  {
   "cell_type": "code",
   "execution_count": null,
   "metadata": {},
   "outputs": [],
   "source": []
  }
 ],
 "metadata": {
  "kernelspec": {
   "display_name": "Python 3",
   "language": "python",
   "name": "python3"
  },
  "language_info": {
   "codemirror_mode": {
    "name": "ipython",
    "version": 3
   },
   "file_extension": ".py",
   "mimetype": "text/x-python",
   "name": "python",
   "nbconvert_exporter": "python",
   "pygments_lexer": "ipython3",
   "version": "3.7.4"
  }
 },
 "nbformat": 4,
 "nbformat_minor": 2
}
