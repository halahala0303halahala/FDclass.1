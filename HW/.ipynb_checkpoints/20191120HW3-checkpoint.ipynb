{
 "cells": [
  {
   "cell_type": "code",
   "execution_count": 1,
   "metadata": {},
   "outputs": [],
   "source": [
    "%matplotlib inline\n",
    "\n",
    "import numpy as np\n",
    "import matplotlib.pyplot as plt\n",
    "import pandas as pd"
   ]
  },
  {
   "cell_type": "code",
   "execution_count": 2,
   "metadata": {},
   "outputs": [],
   "source": [
    "from ipywidgets import interact_manual"
   ]
  },
  {
   "cell_type": "code",
   "execution_count": 7,
   "metadata": {},
   "outputs": [],
   "source": [
    "def BMI(x,y):\n",
    "    x = float(x)/100\n",
    "    y = float(y)\n",
    "    bmi = y/(x**2)\n",
    "    if bmi < 16.5:\n",
    "        print(f\"你的BMI為{bmi:.2f},是免役體位\")\n",
    "    elif bmi < 17:\n",
    "        print(f\"你的BMI為{bmi:.2f},是替代役體位\")\n",
    "    elif bmi < 31:\n",
    "        print(f\"你的BMI為{bmi:.2f},是常備役體位\")\n",
    "    elif bmi < 31.5:\n",
    "        print(f\"你的BMI為{bmi:.2f},是替代役體位\")\n",
    "    else :\n",
    "        print(f\"你的BMI為{bmi:.2f},是免役體位\")\n"
   ]
  },
  {
   "cell_type": "code",
   "execution_count": 8,
   "metadata": {
    "scrolled": true
   },
   "outputs": [
    {
     "data": {
      "application/vnd.jupyter.widget-view+json": {
       "model_id": "8659e599297d4f19bfc5628adae5e9b6",
       "version_major": 2,
       "version_minor": 0
      },
      "text/plain": [
       "interactive(children=(Text(value='請輸入身高', description='x'), Text(value='請輸入體重', description='y'), Button(descr…"
      ]
     },
     "metadata": {},
     "output_type": "display_data"
    },
    {
     "data": {
      "text/plain": [
       "<function __main__.BMI(x, y)>"
      ]
     },
     "execution_count": 8,
     "metadata": {},
     "output_type": "execute_result"
    }
   ],
   "source": [
    "interact_manual(BMI,x=\"請輸入身高\", y=\"請輸入體重\")"
   ]
  },
  {
   "cell_type": "code",
   "execution_count": null,
   "metadata": {},
   "outputs": [],
   "source": []
  }
 ],
 "metadata": {
  "kernelspec": {
   "display_name": "Python 3",
   "language": "python",
   "name": "python3"
  },
  "language_info": {
   "codemirror_mode": {
    "name": "ipython",
    "version": 3
   },
   "file_extension": ".py",
   "mimetype": "text/x-python",
   "name": "python",
   "nbconvert_exporter": "python",
   "pygments_lexer": "ipython3",
   "version": "3.7.4"
  }
 },
 "nbformat": 4,
 "nbformat_minor": 2
}
