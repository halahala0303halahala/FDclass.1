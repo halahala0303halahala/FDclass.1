{
 "cells": [
  {
   "cell_type": "code",
   "execution_count": 1,
   "metadata": {},
   "outputs": [],
   "source": [
    "%matplotlib inline\n",
    "\n",
    "import numpy as np\n",
    "import matplotlib.pyplot as plt\n",
    "import pandas as pd"
   ]
  },
  {
   "cell_type": "markdown",
   "metadata": {},
   "source": [
    "## 第一題:\n",
    "有A,B,C三個班級，每班皆有10個學生，期中考結束後，老師希望計算各班級每位學生的加權平均成績。\n",
    " \n",
    "請隨機產生3個班級的成績單,每班10人,共五科,權重為weights=[0.25,0.25,0.25,0.15,0.10]。\n",
    "請算出班級加權平均成績，並以一個array輸出。"
   ]
  },
  {
   "cell_type": "code",
   "execution_count": 32,
   "metadata": {},
   "outputs": [
    {
     "data": {
      "text/plain": [
       "array([[[ 48,  31,  46,   7,  61],\n",
       "        [  6,  72,  50,  39,  74],\n",
       "        [ 55,  95,  18,  51,  46],\n",
       "        [ 89,  16,   5,  86,  51],\n",
       "        [ 26,  31,  61,  71,  77],\n",
       "        [ 76,  69,  22,   9,  38],\n",
       "        [ 90,  36,  57, 100,  29],\n",
       "        [ 53,  11,   4,  23,  95],\n",
       "        [ 26,  38,  39,  20,  95],\n",
       "        [ 56,  89,  95,  48,  29]],\n",
       "\n",
       "       [[ 22,  22,  89,  29,  30],\n",
       "        [ 92,  40,  93,  12,  45],\n",
       "        [ 55,  39,  56,  58,  21],\n",
       "        [ 46,  99,  32,  96,  65],\n",
       "        [ 14,   8,  19,  98,  79],\n",
       "        [ 99,  95,  17,  34,  27],\n",
       "        [ 20,   4,  86,  48,  36],\n",
       "        [ 86,  93,  32,  91,  79],\n",
       "        [ 50,  45,  71,  58,  23],\n",
       "        [ 30,  74,  26, 100,  11]],\n",
       "\n",
       "       [[ 52,  17,  58,  13,  92],\n",
       "        [ 54,  42,  27,  13,  22],\n",
       "        [ 86,  46,  97,   2,  69],\n",
       "        [ 24,  83,  75,  32,  46],\n",
       "        [ 99,  20,  95,  22,  40],\n",
       "        [ 38,  51,  89,  58,  61],\n",
       "        [  7,  19,  71,  58,  65],\n",
       "        [ 38,  62,  71,  91,  49],\n",
       "        [ 22,  60,  70,   0,  54],\n",
       "        [ 72,  35,  52,  68,  30]]])"
      ]
     },
     "execution_count": 32,
     "metadata": {},
     "output_type": "execute_result"
    }
   ],
   "source": [
    "grade= np.random.randint(0,101,150)\n",
    "grade.shape=(3,10,5)\n",
    "weights=np.array([0.25,0.25,0.25,0.15,0.10])\n",
    "grade"
   ]
  },
  {
   "cell_type": "code",
   "execution_count": 7,
   "metadata": {},
   "outputs": [
    {
     "data": {
      "text/plain": [
       "array([[34.7 , 34.95, 39.45, 47.95, 64.5 , 67.55, 42.6 , 47.  , 47.55,\n",
       "        55.1 ],\n",
       "       [71.05, 47.95, 56.25, 59.45, 70.8 , 76.65, 43.8 , 80.05, 87.35,\n",
       "        36.  ],\n",
       "       [50.25, 64.65, 44.85, 46.15, 41.2 , 52.45, 67.5 , 47.7 , 45.65,\n",
       "        10.75]])"
      ]
     },
     "execution_count": 7,
     "metadata": {},
     "output_type": "execute_result"
    }
   ],
   "source": [
    "Sum =np.dot(grade,weights)\n",
    "Sum"
   ]
  },
  {
   "cell_type": "code",
   "execution_count": 9,
   "metadata": {},
   "outputs": [
    {
     "data": {
      "text/plain": [
       "array([48.135, 62.935, 47.115])"
      ]
     },
     "execution_count": 9,
     "metadata": {},
     "output_type": "execute_result"
    }
   ],
   "source": [
    "Mean=np.array([np.mean(Sum[0,0:10]),np.mean(Sum[1,0:10]),np.mean(Sum[2,0:10])])\n",
    "Mean"
   ]
  },
  {
   "cell_type": "markdown",
   "metadata": {},
   "source": [
    "## 第二題:\n",
    "向日葵班有40位學生，學期結束後，老師希望知道班上的期末成績相關資訊，作為下個學期教學的參考。\n",
    " \n",
    "請隨機產生40筆0~100的數字作為向日葵班的成績分佈，接著列出最高分、最低分、及格人數(>=60)、平均數、標準差，並且以10分作為一個區間，使用圖表畫出各個區間的人數。"
   ]
  },
  {
   "cell_type": "code",
   "execution_count": 13,
   "metadata": {},
   "outputs": [
    {
     "data": {
      "text/plain": [
       "array([82, 93, 21, 86,  8, 99,  1, 86, 21,  4, 80, 87, 58, 64, 47, 84, 71,\n",
       "       10, 30,  5, 32, 70, 23, 95, 92, 77, 13, 75, 41, 25, 47, 94, 87, 61,\n",
       "       83, 48, 75, 35, 34, 60])"
      ]
     },
     "execution_count": 13,
     "metadata": {},
     "output_type": "execute_result"
    }
   ],
   "source": [
    "grade2 = np.random.randint(0,101,40)\n",
    "grade2"
   ]
  },
  {
   "cell_type": "code",
   "execution_count": 21,
   "metadata": {},
   "outputs": [
    {
     "name": "stdout",
     "output_type": "stream",
     "text": [
      "最高分:99\n",
      "最低分:1\n",
      "及格人數:21\n",
      "平均數:55.1\n",
      "標準差:30.56\n"
     ]
    }
   ],
   "source": [
    "Max = np.max(grade2)\n",
    "Min = np.min(grade2)\n",
    "Pass = len(grade2[grade2>=60])\n",
    "Mean = np.mean(grade2)\n",
    "Std = np.std(grade2)\n",
    "print(f'最高分:{Max}\\n最低分:{Min}\\n及格人數:{Pass}\\n平均數:{Mean}\\n標準差:{Std:.2f}')"
   ]
  },
  {
   "cell_type": "code",
   "execution_count": 24,
   "metadata": {},
   "outputs": [
    {
     "data": {
      "image/png": "[encoded data removed]",
      "text/plain": [
       "<Figure size 432x288 with 1 Axes>"
      ]
     },
     "metadata": {
      "needs_background": "light"
     },
     "output_type": "display_data"
    }
   ],
   "source": [
    "x = [0,10,20,30,40,50,60,70,80,90]\n",
    "y = np.array([np.sum(grade2<10),\n",
    "             np.sum((grade2>10)*(grade2<=20)),\n",
    "             np.sum((grade2>20)*(grade2<=30)),\n",
    "             np.sum((grade2>30)*(grade2<=40)),\n",
    "             np.sum((grade2>40)*(grade2<=50)),\n",
    "             np.sum((grade2>50)*(grade2<=60)),\n",
    "             np.sum((grade2>60)*(grade2<=70)),\n",
    "             np.sum((grade2>70)*(grade2<=80)),\n",
    "             np.sum((grade2>80)*(grade2<=90)),\n",
    "             np.sum(grade2>90)])\n",
    "plt.bar(x,y,width=5);"
   ]
  },
  {
   "cell_type": "markdown",
   "metadata": {},
   "source": [
    "## 挑戰題一：\n",
    "請定義一個全班高微成績的函式，輸入是一個(3, 30, 3)的array，  \n",
    "表示3個班級中30位學生的成績(小考，期中考，期末考)  。\n",
    "\n",
    "目標輸出則是一個(3, 30, 1)的array，表示所有學生的期末成績，\n",
    "期末成績計算方式如下：\n",
    "\n",
    "1. 小考20%，期中考35%，期末考45%  \n",
    "2. 期中考40%，期末考60%。  \n",
    "擇優作為期末成績"
   ]
  },
  {
   "cell_type": "code",
   "execution_count": 41,
   "metadata": {},
   "outputs": [],
   "source": [
    "g = np.random.randint(0,101,270)"
   ]
  },
  {
   "cell_type": "code",
   "execution_count": 42,
   "metadata": {},
   "outputs": [],
   "source": [
    "g.shape=(3,30,3)"
   ]
  },
  {
   "cell_type": "code",
   "execution_count": 40,
   "metadata": {},
   "outputs": [],
   "source": [
    "def ACscore(g):\n",
    "    w1 = [0.2,0.35,0.45]\n",
    "    w2 = [0,0.4,0.6]\n",
    "    s1 = np.dot(g,w1)\n",
    "    s2 = np.dot(g,w2)\n",
    "    S = []\n",
    "    for i in range(0,30):\n",
    "        if (s1[0,i]>s2[0,i]):\n",
    "            S.append(s1[0,i])\n",
    "        else:\n",
    "            S.append(s2[0,i])\n",
    "        if (s1[1,i]>s2[1,i]):\n",
    "            S.append(s1[1,i])\n",
    "        else:\n",
    "            S.append(s2[1,i])\n",
    "        if (s1[2,i]>s2[2,i]):\n",
    "            S.append(s1[2,i])\n",
    "        else:\n",
    "            S.append(s2[2,i])\n",
    "    \n",
    "    S = np.array(S)\n",
    "    S.shape = (3,30,1)\n",
    "    \n",
    "    return S\n",
    "    \n",
    "    \n",
    "\n",
    "\n",
    "\n",
    "\n",
    "\n"
   ]
  },
  {
   "cell_type": "code",
   "execution_count": 43,
   "metadata": {},
   "outputs": [
    {
     "data": {
      "text/plain": [
       "array([[[61.8 ],\n",
       "        [50.2 ],\n",
       "        [75.4 ],\n",
       "        [79.2 ],\n",
       "        [27.8 ],\n",
       "        [32.2 ],\n",
       "        [14.8 ],\n",
       "        [57.8 ],\n",
       "        [43.  ],\n",
       "        [67.8 ],\n",
       "        [46.3 ],\n",
       "        [34.6 ],\n",
       "        [35.25],\n",
       "        [13.2 ],\n",
       "        [36.4 ],\n",
       "        [55.95],\n",
       "        [53.2 ],\n",
       "        [42.  ],\n",
       "        [80.25],\n",
       "        [66.25],\n",
       "        [36.4 ],\n",
       "        [31.2 ],\n",
       "        [47.25],\n",
       "        [52.25],\n",
       "        [64.2 ],\n",
       "        [38.6 ],\n",
       "        [31.85],\n",
       "        [48.6 ],\n",
       "        [58.2 ],\n",
       "        [66.75]],\n",
       "\n",
       "       [[56.6 ],\n",
       "        [87.  ],\n",
       "        [86.2 ],\n",
       "        [54.  ],\n",
       "        [92.6 ],\n",
       "        [16.2 ],\n",
       "        [43.  ],\n",
       "        [59.5 ],\n",
       "        [70.25],\n",
       "        [49.7 ],\n",
       "        [38.  ],\n",
       "        [21.6 ],\n",
       "        [27.6 ],\n",
       "        [40.95],\n",
       "        [29.65],\n",
       "        [98.2 ],\n",
       "        [45.95],\n",
       "        [42.8 ],\n",
       "        [49.8 ],\n",
       "        [65.  ],\n",
       "        [80.2 ],\n",
       "        [41.9 ],\n",
       "        [27.6 ],\n",
       "        [52.65],\n",
       "        [75.8 ],\n",
       "        [41.55],\n",
       "        [47.6 ],\n",
       "        [58.6 ],\n",
       "        [22.1 ],\n",
       "        [53.75]],\n",
       "\n",
       "       [[64.8 ],\n",
       "        [93.6 ],\n",
       "        [70.55],\n",
       "        [30.6 ],\n",
       "        [48.65],\n",
       "        [53.2 ],\n",
       "        [55.  ],\n",
       "        [50.4 ],\n",
       "        [66.1 ],\n",
       "        [42.  ],\n",
       "        [36.55],\n",
       "        [73.  ],\n",
       "        [63.4 ],\n",
       "        [38.75],\n",
       "        [27.6 ],\n",
       "        [31.  ],\n",
       "        [40.1 ],\n",
       "        [24.95],\n",
       "        [48.  ],\n",
       "        [87.2 ],\n",
       "        [79.35],\n",
       "        [41.8 ],\n",
       "        [36.15],\n",
       "        [52.35],\n",
       "        [66.4 ],\n",
       "        [58.  ],\n",
       "        [68.2 ],\n",
       "        [24.  ],\n",
       "        [32.3 ],\n",
       "        [30.  ]]])"
      ]
     },
     "execution_count": 43,
     "metadata": {},
     "output_type": "execute_result"
    }
   ],
   "source": [
    "ACscore(g)"
   ]
  },
  {
   "cell_type": "markdown",
   "metadata": {},
   "source": [
    "### 挑戰題二：\n",
    "題目：給定一個矩陣m，裡面的值都大於0。\n",
    "請將矩陣m裡大於等於1的數字都變成1，小於1的變成0。\n",
    "提示：使用巢狀迴圈(nested loop)加判斷式"
   ]
  },
  {
   "cell_type": "code",
   "execution_count": 57,
   "metadata": {},
   "outputs": [
    {
     "data": {
      "text/plain": [
       "array([[6.00166065e-01, 1.26598241e-01, 1.40003379e+00, 2.39436037e+00,\n",
       "        9.16474435e-02, 3.06735223e-01, 1.65073499e-01, 1.62316460e-01],\n",
       "       [7.15098905e-01, 1.23208879e-01, 4.10080259e-01, 7.72053583e-01,\n",
       "        2.43816501e+00, 8.54017242e-01, 4.08376850e-01, 2.71054975e-01],\n",
       "       [1.34437079e+00, 4.23751138e-01, 1.30111123e+00, 1.76482730e+00,\n",
       "        2.08466924e-03, 7.36142592e-01, 4.90072840e-01, 4.55631185e-01],\n",
       "       [1.09401238e-01, 5.74985372e-01, 1.24921138e+00, 1.02306260e+00,\n",
       "        4.27979981e-01, 6.52281453e-01, 1.32274697e+00, 9.18886179e-01],\n",
       "       [1.61080263e+00, 9.61296423e-01, 9.91033545e-01, 1.34778221e-01,\n",
       "        3.21775019e-01, 3.72182698e-01, 2.78451310e+00, 5.31499884e-01]])"
      ]
     },
     "execution_count": 57,
     "metadata": {},
     "output_type": "execute_result"
    }
   ],
   "source": [
    "m = abs(np.random.randn(5,8))\n",
    "m"
   ]
  },
  {
   "cell_type": "code",
   "execution_count": 55,
   "metadata": {},
   "outputs": [],
   "source": [
    "def mto01(m):\n",
    "    m = abs(m)\n",
    "    m[m<1]=0\n",
    "    m[m>1]=1\n",
    "    return m"
   ]
  },
  {
   "cell_type": "code",
   "execution_count": 58,
   "metadata": {},
   "outputs": [
    {
     "data": {
      "text/plain": [
       "array([[0., 0., 1., 1., 0., 0., 0., 0.],\n",
       "       [0., 0., 0., 0., 1., 0., 0., 0.],\n",
       "       [1., 0., 1., 1., 0., 0., 0., 0.],\n",
       "       [0., 0., 1., 1., 0., 0., 1., 0.],\n",
       "       [1., 0., 0., 0., 0., 0., 1., 0.]])"
      ]
     },
     "execution_count": 58,
     "metadata": {},
     "output_type": "execute_result"
    }
   ],
   "source": [
    "mto01(m)"
   ]
  },
  {
   "cell_type": "code",
   "execution_count": null,
   "metadata": {},
   "outputs": [],
   "source": []
  }
 ],
 "metadata": {
  "kernelspec": {
   "display_name": "Python 3",
   "language": "python",
   "name": "python3"
  },
  "language_info": {
   "codemirror_mode": {
    "name": "ipython",
    "version": 3
   },
   "file_extension": ".py",
   "mimetype": "text/x-python",
   "name": "python",
   "nbconvert_exporter": "python",
   "pygments_lexer": "ipython3",
   "version": "3.7.4"
  }
 },
 "nbformat": 4,
 "nbformat_minor": 2
}
