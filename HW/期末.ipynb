{
 "cells": [
  {
   "cell_type": "code",
   "execution_count": 9,
   "metadata": {},
   "outputs": [],
   "source": [
    "import random as rd\n",
    "from ipywidgets import interact"
   ]
  },
  {
   "cell_type": "code",
   "execution_count": 10,
   "metadata": {},
   "outputs": [],
   "source": [
    "players = ['平民', '平民', '平民', '平民', '預言家', '女巫', '獵人', '白癡', '狼人', '狼人', '狼人', '狼人']\n",
    "rd.shuffle(players)"
   ]
  },
  {
   "cell_type": "code",
   "execution_count": 11,
   "metadata": {},
   "outputs": [],
   "source": [
    "def showcard(card):\n",
    "    print(f'你的角色是{players[card-1]}')"
   ]
  },
  {
   "cell_type": "code",
   "execution_count": 12,
   "metadata": {},
   "outputs": [
    {
     "data": {
      "application/vnd.jupyter.widget-view+json": {
       "model_id": "f1d847d6c0ca446dbb42ab1adefc83f6",
       "version_major": 2,
       "version_minor": 0
      },
      "text/plain": [
       "interactive(children=(Dropdown(description='card', options=(1, 2, 3, 4, 5, 6, 7, 8, 9, 10, 11, 12), value=1), …"
      ]
     },
     "metadata": {},
     "output_type": "display_data"
    },
    {
     "data": {
      "text/plain": [
       "<function __main__.showcard(card)>"
      ]
     },
     "execution_count": 12,
     "metadata": {},
     "output_type": "execute_result"
    }
   ],
   "source": [
    "interact(showcard,card = range(1,13))"
   ]
  },
  {
   "cell_type": "code",
   "execution_count": 13,
   "metadata": {},
   "outputs": [],
   "source": [
    "def werewolf():\n",
    "    i = int(input('請狼人選擇你們要殺的玩家'))\n",
    "    if (players[i-1] == '獵人'):\n",
    "        deigun = 1\n",
    "    return i\n",
    "    \n",
    "def poi():\n",
    "    i = int(input(''))\n",
    "    if (players[i-1] == '獵人'):\n",
    "        gun = 0\n",
    "    return i\n",
    "    \n",
    "def prophet():\n",
    "    i = int(input(''))\n",
    "    if (players[i-1] != '狼人'):\n",
    "        print('他是👍')\n",
    "    else:\n",
    "        print('他是👎')\n",
    "        \n",
    "def policemark():\n",
    "    i = int(input(''))\n",
    "    police[i-1] = 1\n",
    "    print(f'{i}號玩家獲得警徽')\n",
    "    \n",
    "def vote():\n",
    "    i = int(input(''))\n",
    "    print(f'{i}號玩家發表遺言，請玩家發動技能')    \n",
    "    return i\n",
    "\n",
    "def shooting():\n",
    "    i = int(input(''))\n",
    "    print(f'{i}號玩家發表遺言，請玩家發動技能')\n",
    "    return i\n",
    "    \n",
    "def game():\n",
    "    police = [0,0,0,0,0,0,0,0,0,0,0,0]\n",
    "    diegun = 0\n",
    "    gun = 1\n",
    "    s = 0\n",
    "    p = 0\n",
    "    while (True): \n",
    "        print('天黑請閉眼，狼人請睜眼')\n",
    "        body = werewolf()\n",
    "        print('狼人請閉眼')\n",
    "        \n",
    "        print('女巫請睜眼,這位玩家死了，你要使用解藥還是毒藥?')\n",
    "        if '女巫' in players:\n",
    "            w = input('解藥/毒藥')\n",
    "            if w == '解藥':\n",
    "                body = 0\n",
    "            elif w == '毒藥':\n",
    "                p = poi()\n",
    "        print('女巫請閉眼')\n",
    "        \n",
    "        print('預言家請睜眼,你要查驗哪一位玩家?')\n",
    "        if '預言家' in players:\n",
    "            prophet()\n",
    "        print('預言家請閉眼')\n",
    "        \n",
    "        print('獵人請睜眼，今晚的開槍手勢。')\n",
    "        if '獵人' in players:\n",
    "            if gun == 1:\n",
    "                print('👍')\n",
    "            else:\n",
    "                print('👎')\n",
    "        print('獵人請閉眼')\n",
    "        \n",
    "        print('天亮了!')\n",
    "        if (1 in police == False):\n",
    "            print('開始競選警長，請要競選的玩家上警')\n",
    "            policemark()\n",
    "        \n",
    "        if body == 0:\n",
    "            print('昨晚是平安夜')\n",
    "        else:\n",
    "            print(f'昨晚{body}號玩家死了')\n",
    "            if (police[body-1] == 1):\n",
    "                policemark()\n",
    "            if diegun == 1:\n",
    "                s = shooting()\n",
    "                players[s-1] = 0\n",
    "        \n",
    "        if p != 0:\n",
    "            print(f'昨晚{p}號玩家死了')\n",
    "            players[p-1] = 0\n",
    "        print('請警長決定發言順序')\n",
    "        if body != 0:\n",
    "            players[body-1] = 0 \n",
    "        \n",
    "        if('平民' in players) == False:\n",
    "            print('狼人勝利')\n",
    "            break\n",
    "        if('狼人' in players) == False:\n",
    "            print('好人勝利')\n",
    "            break\n",
    "        if('預言家'or'女巫'or'獵人'or'白癡' in players) == False:\n",
    "            print('狼人勝利')\n",
    "            break\n",
    "        \n",
    "        print('開始放逐投票')\n",
    "        v = vote()\n",
    "        if players[v-1] == '獵人':\n",
    "            if gun == 1:\n",
    "                s = shooting()\n",
    "                players[s-1] = 0\n",
    "        if players[v-1] == '白癡':\n",
    "            v = 0\n",
    "            print('他是白癡，不可能是狼拉')\n",
    "        if v != 0:\n",
    "            players[v-1] = 0\n",
    "        \n",
    "        if('平民' in players) == False:\n",
    "            print('狼人勝利')\n",
    "            break\n",
    "        if('狼人' in players) == False:\n",
    "            print('好人勝利')\n",
    "            break\n",
    "        if('預言家'or'女巫'or'獵人'or'白癡' in players) == False:\n",
    "            print('狼人勝利')\n",
    "            break\n",
    "        p = 0\n",
    "        continue\n",
    "            \n",
    "    \n",
    "    \n",
    "            \n",
    "        \n",
    "    \n",
    "    "
   ]
  },
  {
   "cell_type": "code",
   "execution_count": 8,
   "metadata": {},
   "outputs": [
    {
     "name": "stdout",
     "output_type": "stream",
     "text": [
      "天黑請閉眼，狼人請睜眼\n",
      "請狼人選擇你們要殺的玩家1\n",
      "狼人請閉眼\n",
      "女巫請睜眼,這位玩家死了，你要使用解藥還是毒藥?\n",
      "解藥/毒藥解藥\n",
      "女巫請閉眼\n",
      "預言家請睜眼,你要查驗哪一位玩家?\n",
      "7\n",
      "他是👍\n",
      "預言家請閉眼\n",
      "獵人請睜眼，今晚的開槍手勢。\n",
      "👍\n",
      "獵人請閉眼\n",
      "天亮了!\n",
      "昨晚是平安夜\n",
      "請警長決定發言順序\n",
      "開始放逐投票\n",
      "2\n",
      "2號玩家發表遺言，請玩家發動技能\n",
      "天黑請閉眼，狼人請睜眼\n",
      "請狼人選擇你們要殺的玩家1\n",
      "狼人請閉眼\n",
      "女巫請睜眼,這位玩家死了，你要使用解藥還是毒藥?\n",
      "解藥/毒藥毒藥\n",
      "12\n",
      "女巫請閉眼\n",
      "預言家請睜眼,你要查驗哪一位玩家?\n",
      "7\n",
      "他是👍\n",
      "預言家請閉眼\n",
      "獵人請睜眼，今晚的開槍手勢。\n",
      "👍\n",
      "獵人請閉眼\n",
      "天亮了!\n",
      "昨晚1號玩家死了\n",
      "昨晚12號玩家死了\n",
      "請警長決定發言順序\n",
      "開始放逐投票\n",
      "3\n",
      "3號玩家發表遺言，請玩家發動技能\n",
      "狼人勝利\n"
     ]
    }
   ],
   "source": [
    "game()"
   ]
  },
  {
   "cell_type": "code",
   "execution_count": null,
   "metadata": {},
   "outputs": [],
   "source": []
  }
 ],
 "metadata": {
  "kernelspec": {
   "display_name": "Python 3",
   "language": "python",
   "name": "python3"
  },
  "language_info": {
   "codemirror_mode": {
    "name": "ipython",
    "version": 3
   },
   "file_extension": ".py",
   "mimetype": "text/x-python",
   "name": "python",
   "nbconvert_exporter": "python",
   "pygments_lexer": "ipython3",
   "version": "3.7.4"
  }
 },
 "nbformat": 4,
 "nbformat_minor": 2
}
