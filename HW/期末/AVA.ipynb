{
 "cells": [
  {
   "cell_type": "code",
   "execution_count": 1,
   "metadata": {},
   "outputs": [],
   "source": [
    "%matplotlib inline\n",
    "\n",
    "import numpy as np\n",
    "import matplotlib.pyplot as plt\n",
    "import pandas as pd\n",
    "import random as rd\n",
    "from ipywidgets import interact_manual"
   ]
  },
  {
   "cell_type": "markdown",
   "metadata": {},
   "source": [
    "# 阿瓦隆紀錄器\n",
    "阿瓦隆是一款陣營類型的派對遊戲，遊戲中玩家們扮演著正義與邪惡兩方陣營，在5回合的出勤任務中，只要正義方成功的完成3個任務，且5個任務皆順利執行，同時刺客未成功刺殺梅林，正義方即為遊戲贏家。但若同1個任務中，連續5次無法順利執行，或是正義方在5個任務中出現3次失敗，或是刺客成功刺殺梅林，則由邪惡方贏得勝利。每次出勤任務會經由隊長指定出任務的人選，若經由投票達成共識則由指定人選執行任務，若失敗則由下一位玩家擔任隊長重新指派；每一次任務最多進行四次投票，第五位指派的人選會強行執行任務。\n",
    "遊戲中，投票的票型會大大影響雙方陣營對情勢的判斷，換言之是影響勝負的關鍵，但遊戲的配件中沒有輔助記憶票行的工具。這款程式便是基於此需求，利用pandas dataframe 紀錄投票票行的輔助工具。"
   ]
  },
  {
   "cell_type": "markdown",
   "metadata": {},
   "source": [
    "### 事前配置:\n",
    "本程式以阿瓦隆十人局為標準。\n",
    "建立list加入所有腳色，用shuffle函數打亂排序，接著造一個函數讓玩家觀看自己的腳色。"
   ]
  },
  {
   "cell_type": "code",
   "execution_count": 2,
   "metadata": {},
   "outputs": [
    {
     "data": {
      "text/plain": [
       "['亞瑟的忠臣', '亞瑟的忠臣', '刺客', '派西維爾', '亞瑟的忠臣', '梅林', '莫甘娜', '奧伯龍', '莫德雷德', '亞瑟的忠臣']"
      ]
     },
     "execution_count": 2,
     "metadata": {},
     "output_type": "execute_result"
    }
   ],
   "source": [
    "players = ['梅林','派西維爾','亞瑟的忠臣','亞瑟的忠臣','亞瑟的忠臣','亞瑟的忠臣','莫甘娜','刺客','莫德雷德','奧伯龍']\n",
    "rd.shuffle(players)\n",
    "players"
   ]
  },
  {
   "cell_type": "code",
   "execution_count": 61,
   "metadata": {},
   "outputs": [],
   "source": [
    "def show_cha(i):\n",
    "    print(f'{i}號玩家為{players[i-1]}') "
   ]
  },
  {
   "cell_type": "code",
   "execution_count": 62,
   "metadata": {},
   "outputs": [
    {
     "data": {
      "application/vnd.jupyter.widget-view+json": {
       "model_id": "92f7aa096a134081aa93c2eb737c90dd",
       "version_major": 2,
       "version_minor": 0
      },
      "text/plain": [
       "interactive(children=(Dropdown(description='i', options=(1, 2, 3, 4, 5, 6, 7, 8, 9, 10), value=1), Button(desc…"
      ]
     },
     "metadata": {},
     "output_type": "display_data"
    },
    {
     "data": {
      "text/plain": [
       "<function __main__.show_cha(i)>"
      ]
     },
     "execution_count": 62,
     "metadata": {},
     "output_type": "execute_result"
    }
   ],
   "source": [
    "interact_manual(show_cha,i = range(1,11))"
   ]
  },
  {
   "cell_type": "markdown",
   "metadata": {},
   "source": [
    "### 遊戲流程：\n",
    "確認腳色後，便開始製作票型的表格，在逕由函式記錄每一輪投票結果。"
   ]
  },
  {
   "cell_type": "code",
   "execution_count": 4,
   "metadata": {},
   "outputs": [],
   "source": [
    "#表格的index&columns\n",
    "mission = []\n",
    "peo = []\n",
    "for i in range(0,5):\n",
    "    mission = mission+[f'第{i+1}回合']\n",
    "for i in range(0,10):\n",
    "    peo = peo+[f'{i+1}號玩家']"
   ]
  },
  {
   "cell_type": "code",
   "execution_count": 13,
   "metadata": {},
   "outputs": [
    {
     "data": {
      "text/html": [
       "<div>\n",
       "<style scoped>\n",
       "    .dataframe tbody tr th:only-of-type {\n",
       "        vertical-align: middle;\n",
       "    }\n",
       "\n",
       "    .dataframe tbody tr th {\n",
       "        vertical-align: top;\n",
       "    }\n",
       "\n",
       "    .dataframe thead th {\n",
       "        text-align: right;\n",
       "    }\n",
       "</style>\n",
       "<table border=\"1\" class=\"dataframe\">\n",
       "  <thead>\n",
       "    <tr style=\"text-align: right;\">\n",
       "      <th></th>\n",
       "      <th>第1回合</th>\n",
       "      <th>第2回合</th>\n",
       "      <th>第3回合</th>\n",
       "      <th>第4回合</th>\n",
       "      <th>第5回合</th>\n",
       "    </tr>\n",
       "  </thead>\n",
       "  <tbody>\n",
       "    <tr>\n",
       "      <td>1號玩家</td>\n",
       "      <td>0</td>\n",
       "      <td>0</td>\n",
       "      <td>0</td>\n",
       "      <td>0</td>\n",
       "      <td>0</td>\n",
       "    </tr>\n",
       "    <tr>\n",
       "      <td>2號玩家</td>\n",
       "      <td>0</td>\n",
       "      <td>0</td>\n",
       "      <td>0</td>\n",
       "      <td>0</td>\n",
       "      <td>0</td>\n",
       "    </tr>\n",
       "    <tr>\n",
       "      <td>3號玩家</td>\n",
       "      <td>0</td>\n",
       "      <td>0</td>\n",
       "      <td>0</td>\n",
       "      <td>0</td>\n",
       "      <td>0</td>\n",
       "    </tr>\n",
       "    <tr>\n",
       "      <td>4號玩家</td>\n",
       "      <td>0</td>\n",
       "      <td>0</td>\n",
       "      <td>0</td>\n",
       "      <td>0</td>\n",
       "      <td>0</td>\n",
       "    </tr>\n",
       "    <tr>\n",
       "      <td>5號玩家</td>\n",
       "      <td>0</td>\n",
       "      <td>0</td>\n",
       "      <td>0</td>\n",
       "      <td>0</td>\n",
       "      <td>0</td>\n",
       "    </tr>\n",
       "    <tr>\n",
       "      <td>6號玩家</td>\n",
       "      <td>0</td>\n",
       "      <td>0</td>\n",
       "      <td>0</td>\n",
       "      <td>0</td>\n",
       "      <td>0</td>\n",
       "    </tr>\n",
       "    <tr>\n",
       "      <td>7號玩家</td>\n",
       "      <td>0</td>\n",
       "      <td>0</td>\n",
       "      <td>0</td>\n",
       "      <td>0</td>\n",
       "      <td>0</td>\n",
       "    </tr>\n",
       "    <tr>\n",
       "      <td>8號玩家</td>\n",
       "      <td>0</td>\n",
       "      <td>0</td>\n",
       "      <td>0</td>\n",
       "      <td>0</td>\n",
       "      <td>0</td>\n",
       "    </tr>\n",
       "    <tr>\n",
       "      <td>9號玩家</td>\n",
       "      <td>0</td>\n",
       "      <td>0</td>\n",
       "      <td>0</td>\n",
       "      <td>0</td>\n",
       "      <td>0</td>\n",
       "    </tr>\n",
       "    <tr>\n",
       "      <td>10號玩家</td>\n",
       "      <td>0</td>\n",
       "      <td>0</td>\n",
       "      <td>0</td>\n",
       "      <td>0</td>\n",
       "      <td>0</td>\n",
       "    </tr>\n",
       "  </tbody>\n",
       "</table>\n",
       "</div>"
      ],
      "text/plain": [
       "       第1回合  第2回合  第3回合  第4回合  第5回合\n",
       "1號玩家      0     0     0     0     0\n",
       "2號玩家      0     0     0     0     0\n",
       "3號玩家      0     0     0     0     0\n",
       "4號玩家      0     0     0     0     0\n",
       "5號玩家      0     0     0     0     0\n",
       "6號玩家      0     0     0     0     0\n",
       "7號玩家      0     0     0     0     0\n",
       "8號玩家      0     0     0     0     0\n",
       "9號玩家      0     0     0     0     0\n",
       "10號玩家     0     0     0     0     0"
      ]
     },
     "execution_count": 13,
     "metadata": {},
     "output_type": "execute_result"
    }
   ],
   "source": [
    "#用pandas自製票型表格\n",
    "table = np.array([0]*50)\n",
    "table.shape = (10,5)\n",
    "voterec = pd.DataFrame(table,columns=mission,index=peo)\n",
    "voterec"
   ]
  },
  {
   "cell_type": "code",
   "execution_count": null,
   "metadata": {},
   "outputs": [],
   "source": [
    "#記錄投票結果的函式\n",
    "def vote():\n",
    "    result = input('輸入投票結果(贊成:1，反對:0 以/隔開)').split('/')\n",
    "    result = np.array([int(i) for i in result])\n",
    "    result.shape = (10,1)\n",
    "    return result"
   ]
  },
  {
   "cell_type": "code",
   "execution_count": 70,
   "metadata": {},
   "outputs": [],
   "source": [
    "#判定勝方的指示物\n",
    "bluecounter = 0\n",
    "redcounter = 0"
   ]
  },
  {
   "cell_type": "code",
   "execution_count": 53,
   "metadata": {},
   "outputs": [],
   "source": [
    "#將結果紀錄在表格上的函示\n",
    "def Round():\n",
    "    for i in range(0,5):\n",
    "        r = vote()\n",
    "        table[:,i:i+1] = r\n",
    "        count = []\n",
    "        print(voterec)\n",
    "        for j in range(0,10):\n",
    "            if r[j] == 1:\n",
    "                count = count + [0]\n",
    "        if len(count) >= 5:\n",
    "            break"
   ]
  },
  {
   "cell_type": "code",
   "execution_count": 69,
   "metadata": {},
   "outputs": [
    {
     "name": "stdout",
     "output_type": "stream",
     "text": [
      "天黑請閉眼\n",
      "請莫德雷德、刺客、摩甘娜睜眼確認彼此身分，壞人請閉眼\n",
      "請刺客、摩甘娜、奧伯龍豎起大拇指，梅林請睜眼\n",
      "請梅林確認壞人身分、梅林請閉眼，壞人收起大拇指\n",
      "請梅林、摩甘娜豎起大拇指，派西維爾請睜眼\n",
      "派西維爾確認梅林身分，派西維爾請閉眼\n",
      "梅林、摩甘娜收起大拇指\n",
      "天亮了\n",
      "輸入投票結果(贊成:1，反對:0 以/隔開)0/0/0/0/1/0/0/0/1/1\n",
      "       第1回合  第2回合  第3回合  第4回合  第5回合\n",
      "1號玩家      0     0     0     0     0\n",
      "2號玩家      0     0     0     0     0\n",
      "3號玩家      0     0     0     0     0\n",
      "4號玩家      0     0     0     0     0\n",
      "5號玩家      1     0     0     0     0\n",
      "6號玩家      0     0     0     0     0\n",
      "7號玩家      0     0     0     0     0\n",
      "8號玩家      0     0     0     0     0\n",
      "9號玩家      1     0     0     0     0\n",
      "10號玩家     1     0     0     0     0\n",
      "輸入投票結果(贊成:1，反對:0 以/隔開)1/1/1/1/1/1/0/0/0/0\n",
      "       第1回合  第2回合  第3回合  第4回合  第5回合\n",
      "1號玩家      0     1     0     0     0\n",
      "2號玩家      0     1     0     0     0\n",
      "3號玩家      0     1     0     0     0\n",
      "4號玩家      0     1     0     0     0\n",
      "5號玩家      1     1     0     0     0\n",
      "6號玩家      0     1     0     0     0\n",
      "7號玩家      0     0     0     0     0\n",
      "8號玩家      0     0     0     0     0\n",
      "9號玩家      1     0     0     0     0\n",
      "10號玩家     1     0     0     0     0\n",
      "任務結果:成功\n",
      "輸入投票結果(贊成:1，反對:0 以/隔開)1/1/1/1/1/1/1/1/1/1\n",
      "       第1回合  第2回合  第3回合  第4回合  第5回合\n",
      "1號玩家      1     0     0     0     0\n",
      "2號玩家      1     0     0     0     0\n",
      "3號玩家      1     0     0     0     0\n",
      "4號玩家      1     0     0     0     0\n",
      "5號玩家      1     0     0     0     0\n",
      "6號玩家      1     0     0     0     0\n",
      "7號玩家      1     0     0     0     0\n",
      "8號玩家      1     0     0     0     0\n",
      "9號玩家      1     0     0     0     0\n",
      "10號玩家     1     0     0     0     0\n",
      "任務結果:成功\n",
      "任務完成，請刺客決定刺殺對象\n"
     ]
    }
   ],
   "source": [
    "#主程式\n",
    "print('天黑請閉眼\\n請莫德雷德、刺客、摩甘娜睜眼確認彼此身分，壞人請閉眼')\n",
    "print('請刺客、摩甘娜、奧伯龍豎起大拇指，梅林請睜眼\\n請梅林確認壞人身分、梅林請閉眼，壞人收起大拇指')\n",
    "print('請梅林、摩甘娜豎起大拇指，派西維爾請睜眼\\n派西維爾確認梅林身分，派西維爾請閉眼\\n梅林、摩甘娜收起大拇指\\n天亮了')\n",
    "\n",
    "for i in range(0,5):\n",
    "    Round()\n",
    "    table = np.array([0]*50)\n",
    "    table.shape = (10,5)\n",
    "    voterec = pd.DataFrame(table,columns=mission,index=peo)##每次任務執行完須重製表格\n",
    "    M = input('任務結果:')#紀錄勝負的指示物\n",
    "    if M == '成功':\n",
    "        bluecounter=bluecounter+1\n",
    "    else:\n",
    "        redcounter=redcounter+1\n",
    "    if bluecounter>=3:\n",
    "        print('任務完成，請刺客決定刺殺對象')\n",
    "        break\n",
    "    elif redcounter>=3:\n",
    "        print('遊戲結束，壞人獲勝')\n",
    "        break\n",
    "    "
   ]
  },
  {
   "cell_type": "code",
   "execution_count": null,
   "metadata": {},
   "outputs": [],
   "source": []
  }
 ],
 "metadata": {
  "kernelspec": {
   "display_name": "Python 3",
   "language": "python",
   "name": "python3"
  },
  "language_info": {
   "codemirror_mode": {
    "name": "ipython",
    "version": 3
   },
   "file_extension": ".py",
   "mimetype": "text/x-python",
   "name": "python",
   "nbconvert_exporter": "python",
   "pygments_lexer": "ipython3",
   "version": "3.7.4"
  }
 },
 "nbformat": 4,
 "nbformat_minor": 2
}
