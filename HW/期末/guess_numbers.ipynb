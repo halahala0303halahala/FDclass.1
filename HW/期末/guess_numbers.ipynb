{
 "cells": [
  {
   "cell_type": "code",
   "execution_count": 1,
   "metadata": {},
   "outputs": [],
   "source": [
    "%matplotlib inline \n",
    "import numpy as np\n",
    "import matplotlib.pyplot as plt\n",
    "import pandas as pd"
   ]
  },
  {
   "cell_type": "markdown",
   "metadata": {},
   "source": [
    "## 猜數字"
   ]
  },
  {
   "cell_type": "code",
   "execution_count": 4,
   "metadata": {},
   "outputs": [],
   "source": [
    "def guess():\n",
    "    g = int(input(''))\n",
    "    g_list = []\n",
    "    for i in range(0,4):\n",
    "        g_list = g_list + [g//10**(3-i)]\n",
    "        g = g%10**(3-i)\n",
    "    return g_list\n",
    "\n",
    "def result(g,ans):\n",
    "    a = 0\n",
    "    b = 0 \n",
    "    for i in range(0,4):\n",
    "        if g[i] in ans:\n",
    "            if g[i] == ans[i]:\n",
    "                a = a+1\n",
    "            else:\n",
    "                b = b+1\n",
    "    print(f'{a}A{b}B')\n",
    "    return a\n",
    "    \n",
    "def guess_numbers():\n",
    "    ans = []\n",
    "    for i in range(0,4):\n",
    "        ans = ans + [np.random.randint(0,10)]\n",
    "    a = 0\n",
    "    while a != 4:\n",
    "        g = guess()\n",
    "        a = result(g,ans)\n",
    "    print('You Win !')\n",
    "        \n",
    "    "
   ]
  },
  {
   "cell_type": "code",
   "execution_count": 5,
   "metadata": {},
   "outputs": [
    {
     "name": "stdout",
     "output_type": "stream",
     "text": [
      "1234\n",
      "2A0B\n",
      "1289\n",
      "1A1B\n",
      "1989\n",
      "0A2B\n",
      "9294\n",
      "3A1B\n",
      "9284\n",
      "3A0B\n",
      "9204\n",
      "3A0B\n",
      "9254\n",
      "4A0B\n",
      "You Win !\n"
     ]
    }
   ],
   "source": [
    "guess_numbers()"
   ]
  },
  {
   "cell_type": "code",
   "execution_count": null,
   "metadata": {},
   "outputs": [],
   "source": []
  }
 ],
 "metadata": {
  "kernelspec": {
   "display_name": "Python 3",
   "language": "python",
   "name": "python3"
  },
  "language_info": {
   "codemirror_mode": {
    "name": "ipython",
    "version": 3
   },
   "file_extension": ".py",
   "mimetype": "text/x-python",
   "name": "python",
   "nbconvert_exporter": "python",
   "pygments_lexer": "ipython3",
   "version": "3.7.4"
  }
 },
 "nbformat": 4,
 "nbformat_minor": 2
}
