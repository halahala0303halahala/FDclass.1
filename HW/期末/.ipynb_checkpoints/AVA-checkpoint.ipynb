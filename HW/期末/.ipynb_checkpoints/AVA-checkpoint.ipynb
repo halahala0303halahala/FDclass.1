{
 "cells": [
  {
   "cell_type": "code",
   "execution_count": 11,
   "metadata": {},
   "outputs": [],
   "source": [
    "%matplotlib inline\n",
    "\n",
    "import numpy as np\n",
    "import matplotlib.pyplot as plt\n",
    "import pandas as pd\n",
    "import random as rd\n",
    "from ipywidgets import interact_manual"
   ]
  },
  {
   "cell_type": "code",
   "execution_count": 10,
   "metadata": {},
   "outputs": [
    {
     "data": {
      "text/plain": [
       "['奧伯龍', '亞瑟的忠臣', '亞瑟的忠臣', '梅林', '莫德雷德', '亞瑟的忠臣', '派西維爾', '莫甘娜', '亞瑟的忠臣', '刺客']"
      ]
     },
     "execution_count": 10,
     "metadata": {},
     "output_type": "execute_result"
    }
   ],
   "source": [
    "players = ['梅林','派西維爾','亞瑟的忠臣','亞瑟的忠臣','亞瑟的忠臣','亞瑟的忠臣','莫甘娜','刺客','莫德雷德','奧伯龍']\n",
    "rd.shuffle(players)\n",
    "players"
   ]
  },
  {
   "cell_type": "code",
   "execution_count": 17,
   "metadata": {},
   "outputs": [],
   "source": [
    "def show_cha(i):\n",
    "    print(f'{i-1}號玩家為{players[i-1]}') \n"
   ]
  },
  {
   "cell_type": "code",
   "execution_count": 31,
   "metadata": {},
   "outputs": [],
   "source": [
    "mission = []\n",
    "peo = []\n",
    "for i in range(0,5):\n",
    "    mission = mission+[f'第{i+1}回合']\n",
    "for i in range(0,10):\n",
    "    peo = peo+[f'{i+1}號玩家']"
   ]
  },
  {
   "cell_type": "code",
   "execution_count": 32,
   "metadata": {},
   "outputs": [
    {
     "data": {
      "text/html": [
       "<div>\n",
       "<style scoped>\n",
       "    .dataframe tbody tr th:only-of-type {\n",
       "        vertical-align: middle;\n",
       "    }\n",
       "\n",
       "    .dataframe tbody tr th {\n",
       "        vertical-align: top;\n",
       "    }\n",
       "\n",
       "    .dataframe thead th {\n",
       "        text-align: right;\n",
       "    }\n",
       "</style>\n",
       "<table border=\"1\" class=\"dataframe\">\n",
       "  <thead>\n",
       "    <tr style=\"text-align: right;\">\n",
       "      <th></th>\n",
       "      <th>第1回合</th>\n",
       "      <th>第2回合</th>\n",
       "      <th>第3回合</th>\n",
       "      <th>第4回合</th>\n",
       "      <th>第5回合</th>\n",
       "    </tr>\n",
       "  </thead>\n",
       "  <tbody>\n",
       "    <tr>\n",
       "      <td>1號玩家</td>\n",
       "      <td>0</td>\n",
       "      <td>0</td>\n",
       "      <td>0</td>\n",
       "      <td>0</td>\n",
       "      <td>0</td>\n",
       "    </tr>\n",
       "    <tr>\n",
       "      <td>2號玩家</td>\n",
       "      <td>0</td>\n",
       "      <td>0</td>\n",
       "      <td>0</td>\n",
       "      <td>0</td>\n",
       "      <td>0</td>\n",
       "    </tr>\n",
       "    <tr>\n",
       "      <td>3號玩家</td>\n",
       "      <td>0</td>\n",
       "      <td>0</td>\n",
       "      <td>0</td>\n",
       "      <td>0</td>\n",
       "      <td>0</td>\n",
       "    </tr>\n",
       "    <tr>\n",
       "      <td>4號玩家</td>\n",
       "      <td>0</td>\n",
       "      <td>0</td>\n",
       "      <td>0</td>\n",
       "      <td>0</td>\n",
       "      <td>0</td>\n",
       "    </tr>\n",
       "    <tr>\n",
       "      <td>5號玩家</td>\n",
       "      <td>0</td>\n",
       "      <td>0</td>\n",
       "      <td>0</td>\n",
       "      <td>0</td>\n",
       "      <td>0</td>\n",
       "    </tr>\n",
       "    <tr>\n",
       "      <td>6號玩家</td>\n",
       "      <td>0</td>\n",
       "      <td>0</td>\n",
       "      <td>0</td>\n",
       "      <td>0</td>\n",
       "      <td>0</td>\n",
       "    </tr>\n",
       "    <tr>\n",
       "      <td>7號玩家</td>\n",
       "      <td>0</td>\n",
       "      <td>0</td>\n",
       "      <td>0</td>\n",
       "      <td>0</td>\n",
       "      <td>0</td>\n",
       "    </tr>\n",
       "    <tr>\n",
       "      <td>8號玩家</td>\n",
       "      <td>0</td>\n",
       "      <td>0</td>\n",
       "      <td>0</td>\n",
       "      <td>0</td>\n",
       "      <td>0</td>\n",
       "    </tr>\n",
       "    <tr>\n",
       "      <td>9號玩家</td>\n",
       "      <td>0</td>\n",
       "      <td>0</td>\n",
       "      <td>0</td>\n",
       "      <td>0</td>\n",
       "      <td>0</td>\n",
       "    </tr>\n",
       "    <tr>\n",
       "      <td>10號玩家</td>\n",
       "      <td>0</td>\n",
       "      <td>0</td>\n",
       "      <td>0</td>\n",
       "      <td>0</td>\n",
       "      <td>0</td>\n",
       "    </tr>\n",
       "  </tbody>\n",
       "</table>\n",
       "</div>"
      ],
      "text/plain": [
       "       第1回合  第2回合  第3回合  第4回合  第5回合\n",
       "1號玩家      0     0     0     0     0\n",
       "2號玩家      0     0     0     0     0\n",
       "3號玩家      0     0     0     0     0\n",
       "4號玩家      0     0     0     0     0\n",
       "5號玩家      0     0     0     0     0\n",
       "6號玩家      0     0     0     0     0\n",
       "7號玩家      0     0     0     0     0\n",
       "8號玩家      0     0     0     0     0\n",
       "9號玩家      0     0     0     0     0\n",
       "10號玩家     0     0     0     0     0"
      ]
     },
     "execution_count": 32,
     "metadata": {},
     "output_type": "execute_result"
    }
   ],
   "source": [
    "table = np.array([0]*50)\n",
    "table.shape = (10,5)\n",
    "voterec = pd.DataFrame(table,columns=mission,index=peo)\n",
    "voterec"
   ]
  },
  {
   "cell_type": "code",
   "execution_count": 37,
   "metadata": {},
   "outputs": [],
   "source": [
    "def votetomission():\n",
    "    result = input('請輸入投票結果(贊成:O，反對:X 以/隔開)')\n",
    "    result = list(result.split('/'))\n",
    "    voterec.第一回合 = result"
   ]
  },
  {
   "cell_type": "code",
   "execution_count": 38,
   "metadata": {},
   "outputs": [
    {
     "name": "stdout",
     "output_type": "stream",
     "text": [
      "請輸入投票結果(贊成:O，反對:X 以/隔開)O/O/O/O/O/O/O/O/O/O\n"
     ]
    },
    {
     "name": "stderr",
     "output_type": "stream",
     "text": [
      "C:\\anaconda\\lib\\site-packages\\ipykernel_launcher.py:4: UserWarning: Pandas doesn't allow columns to be created via a new attribute name - see https://pandas.pydata.org/pandas-docs/stable/indexing.html#attribute-access\n",
      "  after removing the cwd from sys.path.\n"
     ]
    }
   ],
   "source": [
    "votetomission()"
   ]
  },
  {
   "cell_type": "code",
   "execution_count": null,
   "metadata": {},
   "outputs": [],
   "source": []
  },
  {
   "cell_type": "code",
   "execution_count": 19,
   "metadata": {},
   "outputs": [
    {
     "ename": "SyntaxError",
     "evalue": "EOL while scanning string literal (<ipython-input-19-2537a7d89404>, line 1)",
     "output_type": "error",
     "traceback": [
      "\u001b[1;36m  File \u001b[1;32m\"<ipython-input-19-2537a7d89404>\"\u001b[1;36m, line \u001b[1;32m1\u001b[0m\n\u001b[1;33m    '天黑請閉眼\\n請莫德雷德、刺客、摩甘娜睜眼確認彼此身分，壞人請閉眼\\n請刺客、摩甘娜、奧伯龍豎起大拇指，梅林請睜眼\\n\u001b[0m\n\u001b[1;37m                                                                ^\u001b[0m\n\u001b[1;31mSyntaxError\u001b[0m\u001b[1;31m:\u001b[0m EOL while scanning string literal\n"
     ]
    }
   ],
   "source": [
    "'天黑請閉眼\\n請莫德雷德、刺客、摩甘娜睜眼確認彼此身分，壞人請閉眼\\n請刺客、摩甘娜、奧伯龍豎起大拇指，梅林請睜眼\\n\n",
    "請梅林確認壞人身分、梅林請閉眼，壞人收起大拇指\\n請梅林、摩甘娜豎起大拇指，派西維爾請睜眼\\n派西維爾確認梅林身分，派西維爾請閉眼\\n\n",
    "梅林、摩甘娜收起大拇指\\天亮了'"
   ]
  }
 ],
 "metadata": {
  "kernelspec": {
   "display_name": "Python 3",
   "language": "python",
   "name": "python3"
  },
  "language_info": {
   "codemirror_mode": {
    "name": "ipython",
    "version": 3
   },
   "file_extension": ".py",
   "mimetype": "text/x-python",
   "name": "python",
   "nbconvert_exporter": "python",
   "pygments_lexer": "ipython3",
   "version": "3.7.4"
  }
 },
 "nbformat": 4,
 "nbformat_minor": 2
}
