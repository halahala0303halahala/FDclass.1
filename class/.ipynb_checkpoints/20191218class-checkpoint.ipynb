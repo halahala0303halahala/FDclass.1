{
 "cells": [
  {
   "cell_type": "code",
   "execution_count": 1,
   "metadata": {},
   "outputs": [],
   "source": [
    "!mkdir new"
   ]
  },
  {
   "cell_type": "code",
   "execution_count": 3,
   "metadata": {},
   "outputs": [
    {
     "name": "stdout",
     "output_type": "stream",
     "text": [
      "C:\\Users\\李昱圻\\Desktop\\newpython\\class\\new\n"
     ]
    }
   ],
   "source": [
    "%cd new"
   ]
  },
  {
   "cell_type": "code",
   "execution_count": 9,
   "metadata": {},
   "outputs": [],
   "source": [
    "from random import randint"
   ]
  },
  {
   "cell_type": "code",
   "execution_count": 15,
   "metadata": {},
   "outputs": [
    {
     "name": "stdout",
     "output_type": "stream",
     "text": [
      "lucky number 55\n"
     ]
    }
   ],
   "source": [
    "print(f'lucky number {randint(1,100)}')"
   ]
  },
  {
   "cell_type": "code",
   "execution_count": 12,
   "metadata": {},
   "outputs": [
    {
     "name": "stdout",
     "output_type": "stream",
     "text": [
      "53,1,69,60,42,65,6,50,85,58,98,36,6,12,25,12,15,82,76,13,91,83,67,13,88,48,50,52,13,58,22,95,32,33,11,6,21,51,67,67,22,74,86,93,44,39,51,54,62,92,10,50,47,70,13,58,39,34,90,89,95,87,6,7,98,72,53,26,95,76,45,22,39,27,64,36,57,29,63,32,96,21,72,27,90,48,75,43,19,72,16,81,23,11,67,30,97,13,37,47,"
     ]
    }
   ],
   "source": [
    "for i in range(100):\n",
    "    print(np.random.randint(1,100), end = ',')"
   ]
  },
  {
   "cell_type": "code",
   "execution_count": 16,
   "metadata": {},
   "outputs": [
    {
     "name": "stdout",
     "output_type": "stream",
     "text": [
      "The following commands were written to file `num.py`:\n",
      "from random import randint\n",
      "import numpy as np\n",
      "print(f'lucky number {randint(1,100)}')\n"
     ]
    }
   ],
   "source": [
    "%save num.py 9 15"
   ]
  },
  {
   "cell_type": "code",
   "execution_count": 17,
   "metadata": {},
   "outputs": [
    {
     "name": "stdout",
     "output_type": "stream",
     "text": [
      "Collecting streamlit\n",
      "  Downloading https://files.pythonhosted.org/packages/37/e2/c92db0c7e99f33f2e06d7a7fbd5237dfbb3272ee4ecaedc8c064a6c305a8/streamlit-0.51.0-py2.py3-none-any.whl (6.3MB)\n",
      "Requirement already satisfied: requests in c:\\anaconda\\lib\\site-packages (from streamlit) (2.22.0)\n",
      "Collecting tzlocal (from streamlit)\n",
      "  Downloading https://files.pythonhosted.org/packages/ef/99/53bd1ac9349262f59c1c421d8fcc2559ae8a5eeffed9202684756b648d33/tzlocal-2.0.0-py2.py3-none-any.whl\n",
      "Requirement already satisfied: pillow>=6.2.0 in c:\\anaconda\\lib\\site-packages (from streamlit) (6.2.0)\n",
      "Collecting botocore (from streamlit)\n",
      "  Downloading https://files.pythonhosted.org/packages/49/e0/a9a53656126a635120c0f7eaee3ff3b26a4a08596d10e7192fd91ce19e5c/botocore-1.13.41-py2.py3-none-any.whl (5.8MB)\n",
      "Requirement already satisfied: future in c:\\anaconda\\lib\\site-packages (from streamlit) (0.17.1)\n",
      "Collecting validators (from streamlit)\n",
      "  Downloading https://files.pythonhosted.org/packages/72/8a/f99287daae8cfef938e6eec785f6e259bf6bad93269d5398bb546d5b1563/validators-0.14.1.tar.gz\n",
      "Collecting blinker (from streamlit)\n",
      "  Downloading https://files.pythonhosted.org/packages/1b/51/e2a9f3b757eb802f61dc1f2b09c8c99f6eb01cf06416c0671253536517b6/blinker-1.4.tar.gz (111kB)\n",
      "Collecting protobuf>=3.6.0 (from streamlit)\n",
      "  Downloading https://files.pythonhosted.org/packages/94/1d/82d9b8028f1e85bbe9beb74058b276db9cfb7e1afdb3174651a4828e5e9e/protobuf-3.11.1-cp37-cp37m-win_amd64.whl (1.0MB)\n",
      "Collecting tornado<6.0,>=5.0 (from streamlit)\n",
      "  Downloading https://files.pythonhosted.org/packages/d7/d5/99aff77c15da335e3dbf30254b304a526494dca8e51b4b47419772e35a4e/tornado-5.1.1-cp37-cp37m-win_amd64.whl (455kB)\n",
      "Requirement already satisfied: click>=7.0 in c:\\anaconda\\lib\\site-packages (from streamlit) (7.0)\n",
      "Collecting boto3 (from streamlit)\n",
      "  Downloading https://files.pythonhosted.org/packages/39/8b/250778bc5fd4b9a91d7916f8729b346931be419052130548617139247ba6/boto3-1.10.41-py2.py3-none-any.whl (128kB)\n",
      "Requirement already satisfied: numpy in c:\\anaconda\\lib\\site-packages (from streamlit) (1.16.5)\n",
      "Collecting astor (from streamlit)\n",
      "  Downloading https://files.pythonhosted.org/packages/c3/88/97eef84f48fa04fbd6750e62dcceafba6c63c81b7ac1420856c8dcc0a3f9/astor-0.8.1-py2.py3-none-any.whl\n",
      "Collecting altair>=3.2.0 (from streamlit)\n",
      "  Downloading https://files.pythonhosted.org/packages/67/fe/2584ab143719f073abb4884049a1ef2e5daf277d9c5a3a47df03cd7ad4ab/altair-4.0.0-py2.py3-none-any.whl (709kB)\n",
      "Collecting watchdog (from streamlit)\n",
      "  Downloading https://files.pythonhosted.org/packages/bb/e3/5a55d48a29300160779f0a0d2776d17c1b762a2039b36de528b093b87d5b/watchdog-0.9.0.tar.gz (85kB)\n",
      "Collecting enum-compat (from streamlit)\n",
      "  Downloading https://files.pythonhosted.org/packages/55/ae/467bc4509246283bb59746e21a1a2f5a8aecbef56b1fa6eaca78cd438c8b/enum_compat-0.0.3-py3-none-any.whl\n",
      "Collecting base58 (from streamlit)\n",
      "  Downloading https://files.pythonhosted.org/packages/09/b2/21ac9591f055acc145afead895edeb73bbd69d95cf366fc5c2233f2434cb/base58-1.0.3-py3-none-any.whl\n",
      "Requirement already satisfied: pandas>=0.21.0 in c:\\anaconda\\lib\\site-packages (from streamlit) (0.25.1)\n",
      "Collecting toml (from streamlit)\n",
      "  Downloading https://files.pythonhosted.org/packages/a2/12/ced7105d2de62fa7c8fb5fce92cc4ce66b57c95fb875e9318dba7f8c5db0/toml-0.10.0-py2.py3-none-any.whl\n",
      "Requirement already satisfied: certifi>=2017.4.17 in c:\\anaconda\\lib\\site-packages (from requests->streamlit) (2019.9.11)\n",
      "Requirement already satisfied: idna<2.9,>=2.5 in c:\\anaconda\\lib\\site-packages (from requests->streamlit) (2.8)\n",
      "Requirement already satisfied: chardet<3.1.0,>=3.0.2 in c:\\anaconda\\lib\\site-packages (from requests->streamlit) (3.0.4)\n",
      "Requirement already satisfied: urllib3!=1.25.0,!=1.25.1,<1.26,>=1.21.1 in c:\\anaconda\\lib\\site-packages (from requests->streamlit) (1.24.2)\n",
      "Requirement already satisfied: pytz in c:\\anaconda\\lib\\site-packages (from tzlocal->streamlit) (2019.3)\n",
      "Collecting jmespath<1.0.0,>=0.7.1 (from botocore->streamlit)\n",
      "  Downloading https://files.pythonhosted.org/packages/83/94/7179c3832a6d45b266ddb2aac329e101367fbdb11f425f13771d27f225bb/jmespath-0.9.4-py2.py3-none-any.whl\n",
      "Requirement already satisfied: python-dateutil<2.8.1,>=2.1; python_version >= \"2.7\" in c:\\anaconda\\lib\\site-packages (from botocore->streamlit) (2.8.0)\n",
      "Requirement already satisfied: docutils<0.16,>=0.10 in c:\\anaconda\\lib\\site-packages (from botocore->streamlit) (0.15.2)\n",
      "Requirement already satisfied: six>=1.4.0 in c:\\anaconda\\lib\\site-packages (from validators->streamlit) (1.12.0)\n",
      "Requirement already satisfied: decorator>=3.4.0 in c:\\anaconda\\lib\\site-packages (from validators->streamlit) (4.4.0)\n",
      "Requirement already satisfied: setuptools in c:\\anaconda\\lib\\site-packages (from protobuf>=3.6.0->streamlit) (41.4.0)\n",
      "Collecting s3transfer<0.3.0,>=0.2.0 (from boto3->streamlit)\n",
      "  Downloading https://files.pythonhosted.org/packages/16/8a/1fc3dba0c4923c2a76e1ff0d52b305c44606da63f718d14d3231e21c51b0/s3transfer-0.2.1-py2.py3-none-any.whl (70kB)\n",
      "Requirement already satisfied: entrypoints in c:\\anaconda\\lib\\site-packages (from altair>=3.2.0->streamlit) (0.3)\n",
      "Requirement already satisfied: jinja2 in c:\\anaconda\\lib\\site-packages (from altair>=3.2.0->streamlit) (2.10.3)\n",
      "Requirement already satisfied: jsonschema in c:\\anaconda\\lib\\site-packages (from altair>=3.2.0->streamlit) (3.0.2)\n",
      "Requirement already satisfied: toolz in c:\\anaconda\\lib\\site-packages (from altair>=3.2.0->streamlit) (0.10.0)\n",
      "Requirement already satisfied: PyYAML>=3.10 in c:\\anaconda\\lib\\site-packages (from watchdog->streamlit) (5.1.2)\n",
      "Collecting argh>=0.24.1 (from watchdog->streamlit)\n",
      "  Downloading https://files.pythonhosted.org/packages/06/1c/e667a7126f0b84aaa1c56844337bf0ac12445d1beb9c8a6199a7314944bf/argh-0.26.2-py2.py3-none-any.whl\n",
      "Collecting pathtools>=0.1.1 (from watchdog->streamlit)\n",
      "  Downloading https://files.pythonhosted.org/packages/e7/7f/470d6fcdf23f9f3518f6b0b76be9df16dcc8630ad409947f8be2eb0ed13a/pathtools-0.1.2.tar.gz\n",
      "Requirement already satisfied: MarkupSafe>=0.23 in c:\\anaconda\\lib\\site-packages (from jinja2->altair>=3.2.0->streamlit) (1.1.1)\n",
      "Requirement already satisfied: attrs>=17.4.0 in c:\\anaconda\\lib\\site-packages (from jsonschema->altair>=3.2.0->streamlit) (19.2.0)\n",
      "Requirement already satisfied: pyrsistent>=0.14.0 in c:\\anaconda\\lib\\site-packages (from jsonschema->altair>=3.2.0->streamlit) (0.15.4)\n",
      "Building wheels for collected packages: validators, blinker, watchdog, pathtools\n",
      "  Building wheel for validators (setup.py): started\n",
      "  Building wheel for validators (setup.py): finished with status 'done'\n",
      "  Created wheel for validators: filename=validators-0.14.1-cp37-none-any.whl size=17246 sha256=5ce3698543406efa9411a626095b199d561bdb4051c8a52df15fa8f91cc82ed2\n",
      "  Stored in directory: C:\\Users\\李昱圻\\AppData\\Local\\pip\\Cache\\wheels\\a1\\fb\\78\\272466691f4117974f8d5811e4060fc61e1179a1c00db6f9bb\n",
      "  Building wheel for blinker (setup.py): started\n",
      "  Building wheel for blinker (setup.py): finished with status 'done'\n",
      "  Created wheel for blinker: filename=blinker-1.4-cp37-none-any.whl size=13452 sha256=5f9be31f68153cda9bf18d71924a7497c2898c85d00b3827c06132035e2ffcee\n",
      "  Stored in directory: C:\\Users\\李昱圻\\AppData\\Local\\pip\\Cache\\wheels\\92\\a0\\00\\8690a57883956a301d91cf4ec999cc0b258b01e3f548f86e89\n",
      "  Building wheel for watchdog (setup.py): started\n",
      "  Building wheel for watchdog (setup.py): finished with status 'done'\n",
      "  Created wheel for watchdog: filename=watchdog-0.9.0-cp37-none-any.whl size=73657 sha256=01c2683555b6eaa4ea5d87638cde8e5da7095a91b466e48a669aacd4cb4f5b99\n",
      "  Stored in directory: C:\\Users\\李昱圻\\AppData\\Local\\pip\\Cache\\wheels\\61\\1d\\d0\\04cfe495619be2095eb8d89a31c42adb4e42b76495bc8f784c\n",
      "  Building wheel for pathtools (setup.py): started\n",
      "  Building wheel for pathtools (setup.py): finished with status 'done'\n",
      "  Created wheel for pathtools: filename=pathtools-0.1.2-cp37-none-any.whl size=8793 sha256=23d155b18862bccc9c86567f44741f7ce49bd4262838f4beabeb60e2bcc39781\n",
      "  Stored in directory: C:\\Users\\李昱圻\\AppData\\Local\\pip\\Cache\\wheels\\0b\\04\\79\\c3b0c3a0266a3cb4376da31e5bfe8bba0c489246968a68e843\n",
      "Successfully built validators blinker watchdog pathtools\n",
      "Installing collected packages: tzlocal, jmespath, botocore, validators, blinker, protobuf, tornado, s3transfer, boto3, astor, altair, argh, pathtools, watchdog, enum-compat, base58, toml, streamlit\n",
      "  Found existing installation: tornado 6.0.3\n",
      "    Uninstalling tornado-6.0.3:\n",
      "      Successfully uninstalled tornado-6.0.3\n"
     ]
    },
    {
     "name": "stderr",
     "output_type": "stream",
     "text": [
      "ERROR: Could not install packages due to an EnvironmentError: [WinError 5] 存取被拒。: 'c:\\\\anaconda\\\\lib\\\\site-packages\\\\~ornado\\\\speedups.cp37-win_amd64.pyd'\n",
      "Consider using the `--user` option or check the permissions.\n",
      "\n"
     ]
    }
   ],
   "source": [
    "!pip install streamlit"
   ]
  },
  {
   "cell_type": "code",
   "execution_count": 21,
   "metadata": {},
   "outputs": [
    {
     "name": "stdout",
     "output_type": "stream",
     "text": [
      "Writing web01.py\n"
     ]
    }
   ],
   "source": [
    "%%writefile web01.py\n",
    "import pandas as pd\n",
    "\n",
    "df = pd.DataFrame({\"A\":[33,94,88], \"B\":[94,87,100]})\n",
    "\n",
    "df"
   ]
  },
  {
   "cell_type": "code",
   "execution_count": 22,
   "metadata": {},
   "outputs": [
    {
     "name": "stdout",
     "output_type": "stream",
     "text": [
      " 磁碟區 C 中的磁碟是 OS\n",
      " 磁碟區序號:  5C25-1419\n",
      "\n",
      " C:\\Users\\李昱圻\\Desktop\\newpython\\class\\new 的目錄\n",
      "\n",
      "2019/12/18  上午 11:00    <DIR>          .\n",
      "2019/12/18  上午 11:00    <DIR>          ..\n",
      "2019/12/18  上午 10:30               245 num.py\n",
      "2019/12/18  上午 11:00                83 web01.py\n",
      "               2 個檔案             328 位元組\n",
      "               2 個目錄  448,104,939,520 位元組可用\n"
     ]
    }
   ],
   "source": [
    "%ls"
   ]
  },
  {
   "cell_type": "code",
   "execution_count": 23,
   "metadata": {},
   "outputs": [
    {
     "name": "stderr",
     "output_type": "stream",
     "text": [
      "'cp950' codec can't encode character '\\U0001f44b' in position 4: illegal multibyte sequence\n"
     ]
    }
   ],
   "source": [
    "!streamlit run web01.py"
   ]
  },
  {
   "cell_type": "code",
   "execution_count": null,
   "metadata": {},
   "outputs": [],
   "source": []
  }
 ],
 "metadata": {
  "kernelspec": {
   "display_name": "Python 3",
   "language": "python",
   "name": "python3"
  },
  "language_info": {
   "codemirror_mode": {
    "name": "ipython",
    "version": 3
   },
   "file_extension": ".py",
   "mimetype": "text/x-python",
   "name": "python",
   "nbconvert_exporter": "python",
   "pygments_lexer": "ipython3",
   "version": "3.7.4"
  }
 },
 "nbformat": 4,
 "nbformat_minor": 2
}
